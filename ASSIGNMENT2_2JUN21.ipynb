{
  "nbformat": 4,
  "nbformat_minor": 0,
  "metadata": {
    "colab": {
      "provenance": []
    },
    "kernelspec": {
      "display_name": "Python 3",
      "name": "python3"
    },
    "language_info": {
      "name": "python"
    }
  },
  "cells": [
    {
      "cell_type": "code",
      "metadata": {
        "colab": {
          "base_uri": "https://localhost:8080/"
        },
        "id": "NsYXI5AeBfw6",
        "outputId": "a26b5a77-7083-47b1-9d58-7376c615afa7"
      },
      "source": [
        "# Break Statement\n",
        "\n",
        "for char in \"PYTHON\":\n",
        "  if char == \"H\":\n",
        "    break\n",
        "  print(char)"
      ],
      "execution_count": null,
      "outputs": [
        {
          "output_type": "stream",
          "text": [
            "P\n",
            "Y\n",
            "T\n"
          ],
          "name": "stdout"
        }
      ]
    },
    {
      "cell_type": "code",
      "metadata": {
        "colab": {
          "base_uri": "https://localhost:8080/"
        },
        "id": "HLrQ6sAwEbii",
        "outputId": "8eb98686-b0f7-45ad-cf51-69cebb6e2da6"
      },
      "source": [
        "# Continue Statement\n",
        "\n",
        "for char in \"python\":\n",
        "  if char == \"h\":\n",
        "    continue\n",
        "  print(char)"
      ],
      "execution_count": null,
      "outputs": [
        {
          "output_type": "stream",
          "text": [
            "p\n",
            "y\n",
            "t\n",
            "o\n",
            "n\n"
          ],
          "name": "stdout"
        }
      ]
    },
    {
      "cell_type": "code",
      "metadata": {
        "colab": {
          "base_uri": "https://localhost:8080/"
        },
        "id": "mgew5fl5zCT5",
        "outputId": "bb7cb101-422c-40fe-8dee-8ca3ff2e5c34"
      },
      "source": [
        "# Else In For Loop\n",
        "\n",
        "for x in range(8):\n",
        "  print(x)\n",
        "else:\n",
        "  print('starting of range numbers')"
      ],
      "execution_count": null,
      "outputs": [
        {
          "output_type": "stream",
          "text": [
            "0\n",
            "1\n",
            "2\n",
            "3\n",
            "4\n",
            "5\n",
            "6\n",
            "7\n",
            "starting of range numbers\n"
          ],
          "name": "stdout"
        }
      ]
    }
  ]
}