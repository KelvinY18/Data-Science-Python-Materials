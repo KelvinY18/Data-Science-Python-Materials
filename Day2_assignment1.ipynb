{
  "nbformat": 4,
  "nbformat_minor": 0,
  "metadata": {
    "colab": {
      "provenance": []
    },
    "kernelspec": {
      "name": "python3",
      "display_name": "Python 3"
    },
    "language_info": {
      "name": "python"
    }
  },
  "cells": [
    {
      "cell_type": "code",
      "metadata": {
        "colab": {
          "base_uri": "https://localhost:8080/"
        },
        "id": "tXEpG6nZdmAc",
        "outputId": "67fd28e9-a81c-41f0-d206-645158a750e8"
      },
      "source": [],
      "execution_count": null,
      "outputs": [
        {
          "output_type": "stream",
          "text": [
            "I didn't do that\n",
            "Welcome to \"Kaki\" Code\n"
          ],
          "name": "stdout"
        }
      ]
    },
    {
      "cell_type": "code",
      "metadata": {
        "colab": {
          "base_uri": "https://localhost:8080/"
        },
        "id": "e0UrwCNXdtkd",
        "outputId": "bd3ffb4a-77b0-4bbd-f4d9-15c0b48c8fa6"
      },
      "source": [
        "# Raw strings\n",
        "print('c:\\newfolder\\test') #\\n --> New Line  \\t --> tab Space\n",
        "\n",
        "print(r'c:\\newfolder\\test')\n",
        "\n",
        "print('Temperature:\\n \\t Kuala Lumpur : 27 degrees \\n \\t New Delhi : 16 degrees ')\n",
        "print('Temperature:\\n Kuala Lumpur : 27 degrees \\n New Delhi : 16 degrees')\n",
        "print('''\n",
        "Temperature :\n",
        "    Kuala Lumpur : 27 degrees\n",
        "    New Delhi    : 16 degrees\n",
        "''')\n",
        "# in Python, Strings can be declared using triple quotes to preserve the text formatting"
      ],
      "execution_count": null,
      "outputs": [
        {
          "output_type": "stream",
          "text": [
            "c:\n",
            "ewfolder\test\n",
            "c:\\newfolder\\test\n",
            "Temperature:\n",
            " \t Kuala Lumpur : 27 degrees \n",
            " \t New Delhi : 16 degrees \n",
            "Temperature:\n",
            " Kuala Lumpur : 27 degrees \n",
            " New Delhi : 16 degrees\n",
            "\n",
            "Temperature :\n",
            "    Kuala Lumpur : 27 degrees\n",
            "    New Delhi    : 16 degrees\n",
            "\n"
          ],
          "name": "stdout"
        }
      ]
    },
    {
      "cell_type": "code",
      "metadata": {
        "colab": {
          "base_uri": "https://localhost:8080/"
        },
        "id": "owHuGxd4dt3g",
        "outputId": "6554d112-db29-4656-ef12-5841332b1888"
      },
      "source": [
        "# String Concatenation\n",
        "# combining two Strings together\n",
        "\n",
        "fname = 'Yash'\n",
        "lname = 'Sharma'\n",
        "course = 'Python'\n",
        "fees = 1500 # Line 17\n",
        "\n",
        "# Welcome Yash Sharma To The World of Python\n",
        "\n",
        "print('Welcome '+fname+' '+lname+' To The World of '+course)\n",
        "\n",
        "#in String Concatenation this + operator requires both left and right hand side value to be of String\n",
        "\n",
        "# Welcome Yash Sharma To The World of Python fees will be 1500\n",
        "\n",
        "print('Welcome '+fname+' '+lname+' To The World of '+course+' fees will be '+str(fees))\n",
        "# as + operator requires left & right to be String, Integer value wil give error\n",
        "# str(fees) --> String Casting --> changing int to str --> Type Conversion\n",
        "\n",
        "print('Welcome',fname,lname,'To The World of',course,'fees will be',fees)  # simpler ways using , for spaces & + operator"
      ],
      "execution_count": null,
      "outputs": [
        {
          "output_type": "stream",
          "text": [
            "Welcome Yash Sharma To The World of Python\n",
            "Welcome Yash Sharma To The World of Python fees will be 1500\n",
            "Welcome Yash Sharma To The World of Python fees will be 1500\n"
          ],
          "name": "stdout"
        }
      ]
    },
    {
      "cell_type": "code",
      "metadata": {
        "colab": {
          "base_uri": "https://localhost:8080/"
        },
        "id": "XS0uBO_UduJ0",
        "outputId": "d099a0ee-ec4d-4e6b-d0e2-b15b5cbd8cfe"
      },
      "source": [
        "# STRING Formatting\n",
        "# str.format()\n",
        "\n",
        "# 1. default_order\n",
        "default_order = \"{} {} {} {}\".format('Python','is','very','easy')\n",
        "print(default_order)\n",
        "\n",
        "# 2. positional_order\n",
        "positional_order = \"{2} {0} {1}\".format(\"is\",\"easy\",\"Python\")\n",
        "print(positional_order)\n",
        "\n",
        "# 3. keyword_order\n",
        "keyword_order = \"{m} has {t}\".format(m='Malaysia',t='TwinTower')\n",
        "print(keyword_order)"
      ],
      "execution_count": null,
      "outputs": [
        {
          "output_type": "stream",
          "text": [
            "Python is very easy.\n",
            "Python is easy\n",
            "Malaysia has TwinTower\n"
          ],
          "name": "stdout"
        }
      ]
    },
    {
      "cell_type": "code",
      "metadata": {
        "colab": {
          "base_uri": "https://localhost:8080/"
        },
        "id": "u0w1ulIkduUF",
        "outputId": "8993938f-0275-489f-f70a-21a5a9ecf54d"
      },
      "source": [
        "# Type Conversion\n",
        "# Type Casting\n",
        "# process of converting the value of one data type to another data type\n",
        "\n",
        "# Implicit Type Casting\n",
        "# converts data type without the need of user --> converted data type is not specified\n",
        "int_value = 10\n",
        "float_value = 67.43\n",
        "res = int_value + float_value\n",
        "print(res)\n",
        "# Python always converts smaller dataType to larger dataType --> converted data type not specified\n",
        "\n",
        "# Explicit Type Casting --> commonly called type casting\n",
        "# converts data type to required data type --> data type converted is specified\n",
        "# Syntax : <required_datatype>(expression)\n",
        "int_val = 123\n",
        "str_val = \"456\"\n",
        "res = int_val + int(str_val)\n",
        "print(res)\n"
      ],
      "execution_count": null,
      "outputs": [
        {
          "output_type": "stream",
          "text": [
            "77.43\n",
            "579\n"
          ],
          "name": "stdout"
        }
      ]
    },
    {
      "cell_type": "code",
      "metadata": {
        "colab": {
          "base_uri": "https://localhost:8080/"
        },
        "id": "5NAaSrRUdueX",
        "outputId": "c8b399c0-b56e-4951-be0a-9b3958918827"
      },
      "source": [
        "# Taking User Input\n",
        "# input() --> help to take user input\n",
        "name = input('Enter your name : ')\n",
        "print('Welcome',name)"
      ],
      "execution_count": null,
      "outputs": [
        {
          "output_type": "stream",
          "text": [
            "Enter your name : Kelvin\n",
            "Welcome Kelvin\n"
          ],
          "name": "stdout"
        }
      ]
    },
    {
      "cell_type": "code",
      "metadata": {
        "colab": {
          "base_uri": "https://localhost:8080/"
        },
        "id": "iHDZMlxcdupo",
        "outputId": "2fe5bb55-35b8-4693-b3ca-e751babed78d"
      },
      "source": [
        "num1 = input('Enter first value : ')\n",
        "num2 = input('Enter second value : ')\n",
        "add = num1+num2\n",
        "print('Result :',add)  #every input data is going to be treated as String\n",
        "\n",
        "num1 = int(input('Enter first value : '))   #type casting int\n",
        "num2 = int(input('Enter second value : '))\n",
        "add = num1 + num2\n",
        "print('Result :',add)\n",
        "\n",
        "num1 = float(input('First value :'))    #type casting float\n",
        "num2 = float(input('Second value :'))\n",
        "add = num1 + num2\n",
        "print('Result : ',add)"
      ],
      "execution_count": null,
      "outputs": [
        {
          "output_type": "stream",
          "text": [
            "Enter first value : 3\n",
            "Enter second value : 4\n",
            "Result : 34\n",
            "Enter first value : 4\n",
            "Enter second value : 2\n",
            "Result : 6\n",
            "First value :2\n",
            "Second value :5\n",
            "Result :  7.0\n"
          ],
          "name": "stdout"
        }
      ]
    },
    {
      "cell_type": "code",
      "metadata": {
        "id": "GSWJ4F39GM2Y"
      },
      "source": [],
      "execution_count": null,
      "outputs": []
    }
  ]
}