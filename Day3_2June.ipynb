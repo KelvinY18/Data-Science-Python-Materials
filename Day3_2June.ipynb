{
  "nbformat": 4,
  "nbformat_minor": 0,
  "metadata": {
    "colab": {
      "provenance": []
    },
    "kernelspec": {
      "name": "python3",
      "display_name": "Python 3"
    },
    "language_info": {
      "name": "python"
    }
  },
  "cells": [
    {
      "cell_type": "code",
      "metadata": {
        "colab": {
          "base_uri": "https://localhost:8080/"
        },
        "id": "_34V2cuYTY3_",
        "outputId": "ea2a8026-1fb9-4a01-9cb0-edb41d750aa2"
      },
      "source": [
        "# FOR Loops\n",
        "# to iterate over a sequence --> traversal\n",
        "# every character in a string or items in a list\n",
        "# Syntax :\n",
        "\n",
        "for everyChar in 'Python':\n",
        "  print(everyChar)\n",
        "\n"
      ],
      "execution_count": null,
      "outputs": [
        {
          "output_type": "stream",
          "text": [
            "P\n",
            "y\n",
            "t\n",
            "h\n",
            "o\n",
            "n\n"
          ],
          "name": "stdout"
        }
      ]
    },
    {
      "cell_type": "code",
      "metadata": {
        "colab": {
          "base_uri": "https://localhost:8080/"
        },
        "id": "xU3Q5uzYXxsw",
        "outputId": "aded2b40-7f79-44f4-9c10-cdc019a64a6d"
      },
      "source": [
        "for item in [10,20,30,40,50]:\n",
        "  print(item)"
      ],
      "execution_count": null,
      "outputs": [
        {
          "output_type": "stream",
          "text": [
            "10\n",
            "20\n",
            "30\n",
            "40\n",
            "50\n"
          ],
          "name": "stdout"
        }
      ]
    },
    {
      "cell_type": "code",
      "metadata": {
        "colab": {
          "base_uri": "https://localhost:8080/"
        },
        "id": "dZiU4Fi5ZDfa",
        "outputId": "fe71a288-6b4a-409b-b4b6-eca9525f4ff3"
      },
      "source": [
        "price_list = [120,455,670,320,715]\n",
        "for everyPrice in price_list:\n",
        "  print(everyPrice + 5)    # can directly perform operations to all the items automatically (repition)\n",
        ""
      ],
      "execution_count": null,
      "outputs": [
        {
          "output_type": "stream",
          "text": [
            "125\n",
            "460\n",
            "675\n",
            "325\n",
            "720\n"
          ],
          "name": "stdout"
        }
      ]
    },
    {
      "cell_type": "code",
      "metadata": {
        "colab": {
          "base_uri": "https://localhost:8080/",
          "height": 129
        },
        "id": "Uu7KX0XZbOML",
        "outputId": "48b7dd2a-1c77-463b-d1cf-d642ebb91f8b"
      },
      "source": [
        "# range() function\n",
        "# important in for loop\n",
        "# generate a sewuence of integer values (only!)\n",
        "\n",
        "# 1. range(x)\n",
        "# to generate a sequence of integer values starting from 0\n",
        "# until x-1\n",
        "print(range(10)\n",
        "print(list(range(10)))"
      ],
      "execution_count": null,
      "outputs": [
        {
          "output_type": "error",
          "ename": "SyntaxError",
          "evalue": "ignored",
          "traceback": [
            "\u001b[0;36m  File \u001b[0;32m\"<ipython-input-10-b0c8c65b4664>\"\u001b[0;36m, line \u001b[0;32m9\u001b[0m\n\u001b[0;31m    print(list(range(10)))\u001b[0m\n\u001b[0m        ^\u001b[0m\n\u001b[0;31mSyntaxError\u001b[0m\u001b[0;31m:\u001b[0m invalid syntax\n"
          ]
        }
      ]
    },
    {
      "cell_type": "code",
      "metadata": {
        "colab": {
          "base_uri": "https://localhost:8080/"
        },
        "id": "5xReXcVleDcu",
        "outputId": "0cafe9f6-37ce-41da-9d9e-fb6cebd709ee"
      },
      "source": [
        "for numbers in range(1,11):   # 1 2 3 4 5 6 7 8 9 10\n",
        " print(numbers,'Kelvin')"
      ],
      "execution_count": null,
      "outputs": [
        {
          "output_type": "stream",
          "text": [
            "1 Kelvin\n",
            "2 Kelvin\n",
            "3 Kelvin\n",
            "4 Kelvin\n",
            "5 Kelvin\n",
            "6 Kelvin\n",
            "7 Kelvin\n",
            "8 Kelvin\n",
            "9 Kelvin\n",
            "10 Kelvin\n"
          ],
          "name": "stdout"
        }
      ]
    },
    {
      "cell_type": "code",
      "metadata": {
        "colab": {
          "base_uri": "https://localhost:8080/"
        },
        "id": "zkLAePbxgC1l",
        "outputId": "05520e05-ab9b-42cb-a974-de72eb2ecfd6"
      },
      "source": [
        "num = int(input('Enter a number : '))\n",
        "for i in range(1,11):\n",
        "  print(num,'x',i,'=',num*i)"
      ],
      "execution_count": null,
      "outputs": [
        {
          "output_type": "stream",
          "text": [
            "Enter a number : 3\n",
            "3 x 1 = 3\n",
            "3 x 2 = 6\n",
            "3 x 3 = 9\n",
            "3 x 4 = 12\n",
            "3 x 5 = 15\n",
            "3 x 6 = 18\n",
            "3 x 7 = 21\n",
            "3 x 8 = 24\n",
            "3 x 9 = 27\n",
            "3 x 10 = 30\n"
          ],
          "name": "stdout"
        }
      ]
    },
    {
      "cell_type": "code",
      "metadata": {
        "colab": {
          "base_uri": "https://localhost:8080/"
        },
        "id": "3pF3XAmrjrCP",
        "outputId": "271ee78b-d6bb-4588-93c3-3fb8a67a7284"
      },
      "source": [
        "# WHILE loop\n",
        "# when we dont know how many times to iterate\n",
        "# put conditions\n",
        "\n",
        "i = 1\n",
        "while i<=10:\n",
        "  print(i)\n",
        "  i = i + 1  # must + 1 or else it will forever be true (endless loop)"
      ],
      "execution_count": null,
      "outputs": [
        {
          "output_type": "stream",
          "text": [
            "1\n",
            "2\n",
            "3\n",
            "4\n",
            "5\n",
            "6\n",
            "7\n",
            "8\n",
            "9\n",
            "10\n"
          ],
          "name": "stdout"
        }
      ]
    },
    {
      "cell_type": "code",
      "metadata": {
        "id": "EZW4LfXim5Oo",
        "colab": {
          "base_uri": "https://localhost:8080/"
        },
        "outputId": "67bea228-435f-43a5-a748-57e15b709935"
      },
      "source": [
        "num = 3\n",
        "i = 1\n",
        "while (i<=10):\n",
        "  print(num,'x',i,'=',num*i)\n",
        "  i = i + 1  # must update it so that it increases and reach 10,else will run forever as alwys True"
      ],
      "execution_count": null,
      "outputs": [
        {
          "output_type": "stream",
          "text": [
            "3 x 1 = 3\n",
            "3 x 2 = 6\n",
            "3 x 3 = 9\n",
            "3 x 4 = 12\n",
            "3 x 5 = 15\n",
            "3 x 6 = 18\n",
            "3 x 7 = 21\n",
            "3 x 8 = 24\n",
            "3 x 9 = 27\n",
            "3 x 10 = 30\n"
          ],
          "name": "stdout"
        }
      ]
    },
    {
      "cell_type": "code",
      "metadata": {
        "colab": {
          "base_uri": "https://localhost:8080/"
        },
        "id": "frd_R7ixpzga",
        "outputId": "d150d96b-4a04-46e9-d427-107afcbad83b"
      },
      "source": [
        "total = int(input('How many times :'))\n",
        "i=1\n",
        "while i<=total:\n",
        "  marks = int(input('Enter marks :'))\n",
        "  i = i + 1"
      ],
      "execution_count": null,
      "outputs": [
        {
          "output_type": "stream",
          "text": [
            "How many times :3\n",
            "Enter marks :45\n",
            "Enter marks :34\n",
            "Enter marks :23\n"
          ],
          "name": "stdout"
        }
      ]
    },
    {
      "cell_type": "code",
      "metadata": {
        "id": "8TKbk0Omr7uT"
      },
      "source": [],
      "execution_count": null,
      "outputs": []
    },
    {
      "cell_type": "code",
      "metadata": {
        "id": "e-Cs2GTLpzbN"
      },
      "source": [],
      "execution_count": null,
      "outputs": []
    }
  ]
}