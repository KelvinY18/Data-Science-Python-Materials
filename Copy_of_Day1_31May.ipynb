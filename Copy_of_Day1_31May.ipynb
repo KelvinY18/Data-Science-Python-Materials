{
  "nbformat": 4,
  "nbformat_minor": 0,
  "metadata": {
    "colab": {
      "provenance": []
    },
    "kernelspec": {
      "name": "python3",
      "display_name": "Python 3"
    },
    "language_info": {
      "name": "python"
    }
  },
  "cells": [
    {
      "cell_type": "code",
      "metadata": {
        "id": "wJNCFHVgDbXz",
        "colab": {
          "base_uri": "https://localhost:8080/",
          "height": 35
        },
        "outputId": "824eace3-9ab3-470a-8ad5-08c7bc28aa4f"
      },
      "source": [
        "# SINGLE LINE COMMENTS\n",
        "# COMMENT --> provides meaningful information about our code\n",
        "# will not appear after we print it out (Output)\n",
        "\n",
        "'''\n",
        "MULTI\n",
        "LINE\n",
        "COMMENTS\n",
        "'''\n",
        "#for multi line comments quotes : make sure theres print function after the multi line comment ,or else, its going to print an output\n",
        "\n",
        "# to Enable line number in code cell : CTRL + M + L (CTRL & M & L) (CTRL + M release then, L)\n",
        "# CTRL + M --> Mode\n",
        "# L --> Line Number"
      ],
      "execution_count": null,
      "outputs": [
        {
          "output_type": "execute_result",
          "data": {
            "application/vnd.google.colaboratory.intrinsic+json": {
              "type": "string"
            },
            "text/plain": [
              "'\\nMULTI\\nLINE\\nCOMMENTS\\n'"
            ]
          },
          "metadata": {
            "tags": []
          },
          "execution_count": 3
        }
      ]
    },
    {
      "cell_type": "code",
      "metadata": {
        "colab": {
          "base_uri": "https://localhost:8080/"
        },
        "id": "9pBHQI3NUB_y",
        "outputId": "2107cb97-c465-42cd-9659-b73fe57b3ed3"
      },
      "source": [
        "# print() function\n",
        "# used to print out the information\n",
        "\n",
        "print('Hello World')\n",
        "print(\"Hello World\")\n",
        "# can use single or double quotes --> no difference\n",
        "\n",
        "# for numbers no need to put quotes\n",
        "print(10) #no quotes"
      ],
      "execution_count": null,
      "outputs": [
        {
          "output_type": "stream",
          "text": [
            "Hello World\n",
            "Hello World\n",
            "10\n"
          ],
          "name": "stdout"
        }
      ]
    },
    {
      "cell_type": "code",
      "metadata": {
        "colab": {
          "base_uri": "https://localhost:8080/"
        },
        "id": "42jtoMIPWicc",
        "outputId": "46861e07-c79d-423f-8085-942b22634899"
      },
      "source": [
        "# end = '\\n' -->  \\n  --> New Line\n",
        "#\\t --> Tab space\n",
        "\n",
        "print('Hello World1')\n",
        "print('Hello World1')\n",
        "\n",
        "print('Hello World2',end='\\n')\n",
        "print('Hello World2')\n",
        "\n",
        "print('Hello World3',end='\\t')\n",
        "print('Hello World3')\n",
        "\n",
        "# end = , automatically insert \\n after last character"
      ],
      "execution_count": null,
      "outputs": [
        {
          "output_type": "stream",
          "text": [
            "Hello World1\n",
            "Hello World1\n",
            "Hello World2\n",
            "Hello World2\n",
            "Hello World3\tHello World3\n"
          ],
          "name": "stdout"
        }
      ]
    },
    {
      "cell_type": "code",
      "metadata": {
        "colab": {
          "base_uri": "https://localhost:8080/"
        },
        "id": "-0fDWN0JZQRM",
        "outputId": "339c6b3d-6ce8-483c-e8f7-640e21849bd7"
      },
      "source": [
        "# sep = ' '\n",
        "# used to separate the values using whitespace by default\n",
        "print('FirstValue','SecondValue','ThirdValue')\n",
        "print('FirstValue','SecondValue','ThirdValue',sep=' ') # the original format of Line 3\n",
        "print('FirstValue','SecondValue','ThirdValue',sep='@')\n",
        "print('FirstValue','SecondValue','ThirdValue',sep=':)')"
      ],
      "execution_count": null,
      "outputs": [
        {
          "output_type": "stream",
          "text": [
            "FirstValue SecondValue ThirdValue\n",
            "FirstValue SecondValue ThirdValue\n",
            "FirstValue@SecondValue@ThirdValue\n",
            "FirstValue:)SecondValue:)ThirdValue\n"
          ],
          "name": "stdout"
        }
      ]
    },
    {
      "cell_type": "code",
      "metadata": {
        "colab": {
          "base_uri": "https://localhost:8080/"
        },
        "id": "Q9v25nYXa4lt",
        "outputId": "42562430-d9a7-4a62-cb42-48f61c47caca"
      },
      "source": [
        "# using Python as a numbers\n",
        "print(10+2)\n",
        "print(89-9)\n",
        "print(3*5)\n",
        "# in Python Division operator always return value in float\n",
        "print(12/2)\n",
        "# // Floor Division always return value in Numeric\n",
        "print(12//2)\n",
        "# Exponential operator **\n",
        "print(10**2) # 10 raise to the power of 2\n",
        "print(78**78)\n",
        "# Modulo operator %\n",
        "print(12%5) # used to give remainder"
      ],
      "execution_count": null,
      "outputs": [
        {
          "output_type": "stream",
          "text": [
            "12\n",
            "80\n",
            "15\n",
            "6.0\n",
            "6\n",
            "100\n",
            "3831589812313461262138726500006414268147534037893115512325908939170687185145438579006950082195309705885134607990418665607337632973770507236843454464\n",
            "2\n"
          ],
          "name": "stdout"
        }
      ]
    },
    {
      "cell_type": "code",
      "metadata": {
        "colab": {
          "base_uri": "https://localhost:8080/"
        },
        "id": "COcSPCPcdyz_",
        "outputId": "96739305-fe64-458b-cf9d-73f7911e8951"
      },
      "source": [
        "# VARIABLES\n",
        "# Syntax : variabe_name = value\n",
        "\n",
        "num1 = 10\n",
        "num2 = 20\n",
        "print(num1 + num2)\n",
        "\n",
        "'''\n",
        "Rules for variables name:\n",
        "1. cannot start with numbers\n",
        "2. cannot use whitespace (replace with underscore)\n",
        "3. case-sensitive\n",
        "4. avoid using Python Reserved keywords (int,str,list,print,etc)\n",
        "'''\n",
        "\n",
        "variable1 = 'Kelvin '\n",
        "variable2 = 'Yan'\n",
        "print(variable1 + variable2)"
      ],
      "execution_count": null,
      "outputs": [
        {
          "output_type": "stream",
          "text": [
            "30\n",
            "Kelvin Yan\n"
          ],
          "name": "stdout"
        }
      ]
    },
    {
      "cell_type": "code",
      "metadata": {
        "colab": {
          "base_uri": "https://localhost:8080/"
        },
        "id": "ZmcSsq9zpnce",
        "outputId": "78ae8630-a0f7-40bb-d930-a3a6fb7d0ac5"
      },
      "source": [
        "# DATA TYPES in Python\n",
        "# Python uses Dynamic typing\n",
        "# no need for declaring / specifying dataType before a variable --> unlike C++, Java\n",
        "# depending on the Right-hand side value ( a = 123)\n",
        "\n",
        "# int dataTYPE\n",
        "# used to hold numeric values\n",
        "intValue = 10\n",
        "print(intValue)\n",
        "\n",
        "# type() function --> to determine the dataTYPE of a variable / checking\n",
        "print(type(intValue))\n",
        "\n",
        "# float dataTYPE\n",
        "# used to hold decimal values\n",
        "floatValue = 90.213\n",
        "print(type(floatValue))\n",
        "print(floatValue,type(floatValue))\n",
        "\n",
        "# str dataTYPE --> String\n",
        "strValue = \"Kelvin Yan\"\n",
        "print(strValue,type(strValue))\n",
        "\n",
        "# boolean dataTYPE\n",
        "# used to hold either True or False\n",
        "boolValue = True\n",
        "print(boolValue,type(boolValue))"
      ],
      "execution_count": null,
      "outputs": [
        {
          "output_type": "stream",
          "text": [
            "10\n",
            "<class 'int'>\n",
            "<class 'float'>\n",
            "90.213 <class 'float'>\n",
            "Kelvin Yan <class 'str'>\n",
            "True <class 'bool'>\n"
          ],
          "name": "stdout"
        }
      ]
    },
    {
      "cell_type": "code",
      "metadata": {
        "colab": {
          "base_uri": "https://localhost:8080/"
        },
        "id": "6azTbioBOiLQ",
        "outputId": "aa3eafbc-4642-4247-c6a7-45b127c469fb"
      },
      "source": [
        "\"\"\"\n",
        "hello\n",
        "this is my multi line comment\n",
        "using double quotes\n",
        "\"\"\"\n",
        "\n",
        "a = 1000\n",
        "print(a)"
      ],
      "execution_count": null,
      "outputs": [
        {
          "output_type": "stream",
          "text": [
            "1000\n"
          ],
          "name": "stdout"
        }
      ]
    },
    {
      "cell_type": "code",
      "metadata": {
        "colab": {
          "base_uri": "https://localhost:8080/"
        },
        "id": "bmhhBHM-O3Yt",
        "outputId": "f03cf79e-0008-4477-b817-9ca8561cb925"
      },
      "source": [
        "'''\n",
        "hello\n",
        "this is my multi line comment\n",
        "using single quotes\n",
        "'''\n",
        "a = 1000\n",
        "print(a)"
      ],
      "execution_count": null,
      "outputs": [
        {
          "output_type": "stream",
          "text": [
            "1000\n"
          ],
          "name": "stdout"
        }
      ]
    }
  ]
}