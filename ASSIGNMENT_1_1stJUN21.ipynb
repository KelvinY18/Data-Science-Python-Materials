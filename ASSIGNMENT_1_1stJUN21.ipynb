{
  "nbformat": 4,
  "nbformat_minor": 0,
  "metadata": {
    "colab": {
      "provenance": []
    },
    "kernelspec": {
      "name": "python3",
      "display_name": "Python 3"
    },
    "language_info": {
      "name": "python"
    }
  },
  "cells": [
    {
      "cell_type": "code",
      "metadata": {
        "colab": {
          "base_uri": "https://localhost:8080/",
          "height": 35
        },
        "id": "2_tP47z-tNtw",
        "outputId": "11bc7a6e-b93f-432a-d3a6-ffc6b94c4abf"
      },
      "source": [
        "# Comments In Python\n",
        "# used to provide meaningful information about your code\n",
        "'''\n",
        "Multi Line\n",
        "Comments\n",
        "'''\n",
        "# To Enable Line Number In Code Cell CTRL + M and L\n",
        "# CTRL + M--> mode   L--> Line Number"
      ],
      "execution_count": null,
      "outputs": [
        {
          "output_type": "execute_result",
          "data": {
            "application/vnd.google.colaboratory.intrinsic+json": {
              "type": "string"
            },
            "text/plain": [
              "'\\nMulti Line \\nComments \\n'"
            ]
          },
          "metadata": {
            "tags": []
          },
          "execution_count": 1
        }
      ]
    },
    {
      "cell_type": "code",
      "metadata": {
        "colab": {
          "base_uri": "https://localhost:8080/"
        },
        "id": "tiW0_IezxKM9",
        "outputId": "b1fc5108-4a2b-4f74-8bb3-950060054f5e"
      },
      "source": [
        "# First Python Hello World Program\n",
        "# print() function\n",
        "# used to print on a stream\n",
        "\n",
        "print(\"Hello World\")\n",
        "print('Hello World')\n",
        "print ('Hello World')\n",
        "print(10)"
      ],
      "execution_count": null,
      "outputs": [
        {
          "output_type": "stream",
          "text": [
            "Hello World\n",
            "Hello World\n",
            "Hello World\n",
            "10\n"
          ],
          "name": "stdout"
        }
      ]
    },
    {
      "cell_type": "code",
      "metadata": {
        "colab": {
          "base_uri": "https://localhost:8080/"
        },
        "id": "aCKL3m6qy2p3",
        "outputId": "dba8207c-ae92-4aa1-91a9-b53fddcb72c6"
      },
      "source": [
        "# Default Parameter of Print Function\n",
        "# functionName? : it will give docstring of that function\n",
        "# help(functionName)\n",
        "\n",
        "print('first line', end='\\t')  # \\t-->tab space  \\n--> newline\n",
        "print('second line')"
      ],
      "execution_count": null,
      "outputs": [
        {
          "output_type": "stream",
          "text": [
            "first line\tsecond line\n"
          ],
          "name": "stdout"
        }
      ]
    },
    {
      "cell_type": "code",
      "metadata": {
        "colab": {
          "base_uri": "https://localhost:8080/"
        },
        "id": "VdyfZzY71UIi",
        "outputId": "57fcee31-0aef-4232-df03-6d43250a22cc"
      },
      "source": [
        "print('Firstvalue','SecondValue','Thirdvalue',sep=':)')"
      ],
      "execution_count": null,
      "outputs": [
        {
          "output_type": "stream",
          "text": [
            "Firstvalue:)SecondValue:)Thirdvalue\n"
          ],
          "name": "stdout"
        }
      ]
    },
    {
      "cell_type": "code",
      "metadata": {
        "colab": {
          "base_uri": "https://localhost:8080/"
        },
        "id": "zuz2upUO6sJe",
        "outputId": "8c718fe2-ebe2-4daa-97bc-f1b66876e71b"
      },
      "source": [
        "# Operator Precedence\n",
        "'''\n",
        "() Parenthesis\n",
        "** exponent\n",
        "* / // %\n",
        "+ -\n",
        "'''\n",
        "print(50-5*2)\n",
        "print((50-5)*2)\n",
        "\n",
        "# Associativity\n",
        "print(4*7%3)  # Left One Will Evaluate First And Right One Will Evaluate Later\n",
        "\n",
        "# Right To Left Associativity Exponent **\n",
        "print(4**2**2)"
      ],
      "execution_count": null,
      "outputs": [
        {
          "output_type": "stream",
          "text": [
            "40\n",
            "90\n",
            "1\n",
            "256\n"
          ],
          "name": "stdout"
        }
      ]
    },
    {
      "cell_type": "code",
      "metadata": {
        "colab": {
          "base_uri": "https://localhost:8080/"
        },
        "id": "D6CDquKY2IiD",
        "outputId": "af88d2ef-488b-4d22-d6b8-c33744c16f66"
      },
      "source": [
        "# Python numbers\n",
        "# python as a calculator\n",
        "\n",
        "print(3+3)\n",
        "print(10-5)\n",
        "print(10*8)\n",
        "print(72/2)  # In Python  Division Operators Always Returns value In Float/Decimal\n",
        "# Floor Division  // Always Returns An Integer Value\n",
        "print(72//2)\n",
        "# Exponential Operator --> **\n",
        "print(2 ** 10)  # 2 raise to the power of 10\n",
        "print(78 ** 78)\n",
        "# module Operator % --> used to give a reminder\n",
        "print(17%2)"
      ],
      "execution_count": null,
      "outputs": [
        {
          "output_type": "stream",
          "text": [
            "6\n",
            "5\n",
            "80\n",
            "36.0\n",
            "36\n",
            "1024\n",
            "3831589812313461262138726500006414268147534037893115512325908939170687185145438579006950082195309705885134607990418665607337632973770507236843454464\n",
            "1\n"
          ],
          "name": "stdout"
        }
      ]
    },
    {
      "cell_type": "code",
      "metadata": {
        "colab": {
          "base_uri": "https://localhost:8080/"
        },
        "id": "wvTZbZ3NAgpV",
        "outputId": "2ecba33e-45b4-4871-fc82-91e6066b3b9b"
      },
      "source": [
        "num1 = 20\n",
        "num2 = 30\n",
        "\n",
        "print(num1 + num2)"
      ],
      "execution_count": null,
      "outputs": [
        {
          "output_type": "stream",
          "text": [
            "50\n"
          ],
          "name": "stdout"
        }
      ]
    },
    {
      "cell_type": "code",
      "metadata": {
        "colab": {
          "base_uri": "https://localhost:8080/"
        },
        "id": "CJoEQE9WGdl6",
        "outputId": "0835fb80-4811-49aa-bc41-51f48b9895aa"
      },
      "source": [
        "a123 = 10\n",
        "print(a123)"
      ],
      "execution_count": null,
      "outputs": [
        {
          "output_type": "stream",
          "text": [
            "10\n"
          ],
          "name": "stdout"
        }
      ]
    },
    {
      "cell_type": "code",
      "metadata": {
        "colab": {
          "base_uri": "https://localhost:8080/"
        },
        "id": "K2-JwOvVIWsN",
        "outputId": "a036b123-3da1-47d8-a990-8718f3da8691"
      },
      "source": [
        "# Data Types In Python\n",
        "# Python Uses Dynamic typing this means we can reassign variable to different\n",
        "# Data Types\n",
        "\n",
        "a = 10\n",
        "print(a)\n",
        "\n",
        "a = 'str'\n",
        "print(a)\n",
        "\n",
        "# int Data Type\n",
        "\n",
        "intValue = 10\n",
        "print(intValue)\n",
        "\n",
        "# type() --> used to check the DataType of variable\n",
        "\n",
        "type(intValue)\n",
        "\n",
        "# float data type\n",
        "floatValue = 90.321\n",
        "print(floatValue)\n",
        "\n",
        "# string data type\n",
        "strValue = \"python\"\n",
        "print(type(strValue), strValue)\n",
        "\n",
        "# boolean data type --> true/false\n",
        "boolType = True\n",
        "print(type(boolType))"
      ],
      "execution_count": null,
      "outputs": [
        {
          "output_type": "stream",
          "text": [
            "10\n",
            "str\n",
            "10\n",
            "90.321\n",
            "<class 'str'> python\n",
            "<class 'bool'>\n"
          ],
          "name": "stdout"
        }
      ]
    },
    {
      "cell_type": "code",
      "metadata": {
        "colab": {
          "base_uri": "https://localhost:8080/"
        },
        "id": "dniaw5pSO_2N",
        "outputId": "fbe3e0e4-9fac-4288-a32c-f3b508c694e6"
      },
      "source": [
        "# STRINGS IN PYTHON\n",
        "# sequence by characters\n",
        "str1 = \"string\"\n",
        "str2 = 'string'\n",
        "print(type(str1),  type(str2))"
      ],
      "execution_count": null,
      "outputs": [
        {
          "output_type": "stream",
          "text": [
            "<class 'str'> <class 'str'>\n"
          ],
          "name": "stdout"
        }
      ]
    },
    {
      "cell_type": "code",
      "metadata": {
        "colab": {
          "base_uri": "https://localhost:8080/"
        },
        "id": "ghczwp4kPuHB",
        "outputId": "75c32567-aad1-43a9-88ae-1566e8137cd0"
      },
      "source": [
        "course = \"PythonProgramming\"\n",
        "# P y t h o n P r o g r a m m i n g\n",
        "# 0 1 2 3 4 5 6 7 8 9 10 11 12 13 14 15 16\n",
        "\n",
        "# indexing --> indexing allows us to grab single character from a String\n",
        "# indexing uses [] notation\n",
        "print(course[6])\n",
        "print(course[15])"
      ],
      "execution_count": null,
      "outputs": [
        {
          "output_type": "stream",
          "text": [
            "P\n",
            "n\n"
          ],
          "name": "stdout"
        }
      ]
    },
    {
      "cell_type": "code",
      "metadata": {
        "colab": {
          "base_uri": "https://localhost:8080/"
        },
        "id": "vXzM8COMSlxF",
        "outputId": "7bb1abb9-7550-4804-80ef-d9b2b49aa2a7"
      },
      "source": [
        "# slicing in string\n",
        "course = \"PythonProgramming\"\n",
        "# P y t h o n P r o g r a m m i n g\n",
        "# 0 1 2 3 4 5 6 7 8 9 10 11 12 13 14 15\n",
        "# slicing allows us to grab portion or sub portion of a string\n",
        "# syntax : Varname[startIndex:stopIndex]\n",
        "# startIndex : numeric index from where slicing starts [INCLUSIVE]\n",
        "# stopIndex  : numberic index from where slicing ends [EXCLUSIVE]\n",
        "\n",
        "print(course[3:15])\n",
        "print(course[6:13])\n",
        "print(course[12:16])\n",
        "print(course[:6])\n",
        "print(course[6:])\n",
        "# Negative slicing\n",
        "print(course[-1])\n",
        "# stepCount\n",
        "print(course[::2])\n",
        "# reverse of a string\n",
        "print(course[::-1])"
      ],
      "execution_count": null,
      "outputs": [
        {
          "output_type": "stream",
          "text": [
            "honProgrammi\n",
            "Program\n",
            "mmin\n",
            "Python\n",
            "Programming\n",
            "g\n",
            "PtoPormig\n",
            "gnimmargorPnohtyP\n"
          ],
          "name": "stdout"
        }
      ]
    },
    {
      "cell_type": "code",
      "metadata": {
        "colab": {
          "base_uri": "https://localhost:8080/"
        },
        "id": "vNQHb-Pn0yRs",
        "outputId": "17f9384b-3dd1-4d20-b9ed-e353fa07b246"
      },
      "source": [
        "# Escape Character Sequences\n",
        "print('i didn\\'t do that')\n",
        "\n",
        "print(\"welcome to \\\"Kaki\\\" code\")"
      ],
      "execution_count": null,
      "outputs": [
        {
          "output_type": "stream",
          "text": [
            "i didn't do that\n",
            "welcome to \"Kaki\" code\n"
          ],
          "name": "stdout"
        }
      ]
    },
    {
      "cell_type": "code",
      "metadata": {
        "colab": {
          "base_uri": "https://localhost:8080/"
        },
        "id": "m8_WOC5f3moT",
        "outputId": "a158bf8c-ca31-49a1-9d12-c0e2f0d6d907"
      },
      "source": [
        "# Operators\n",
        "# Assignment Operator\n",
        "# =\n",
        "\n",
        "myNum = 89\n",
        "print(myNum)"
      ],
      "execution_count": null,
      "outputs": [
        {
          "output_type": "stream",
          "text": [
            "89\n"
          ],
          "name": "stdout"
        }
      ]
    }
  ]
}