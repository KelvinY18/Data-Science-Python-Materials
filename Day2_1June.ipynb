{
  "nbformat": 4,
  "nbformat_minor": 0,
  "metadata": {
    "colab": {
      "provenance": []
    },
    "kernelspec": {
      "name": "python3",
      "display_name": "Python 3"
    },
    "language_info": {
      "name": "python"
    }
  },
  "cells": [
    {
      "cell_type": "code",
      "metadata": {
        "colab": {
          "base_uri": "https://localhost:8080/"
        },
        "id": "6NgoXgI1F-jf",
        "outputId": "f66e0c2b-a6c8-4214-fe7c-a9e7680bcb38"
      },
      "source": [
        ")"
      ],
      "execution_count": null,
      "outputs": [
        {
          "output_type": "stream",
          "text": [
            "<class 'str'> <class 'str'>\n"
          ],
          "name": "stdout"
        }
      ]
    },
    {
      "cell_type": "code",
      "metadata": {
        "colab": {
          "base_uri": "https://localhost:8080/"
        },
        "id": "kjt0PK8aLcsu",
        "outputId": "059fede9-2920-471c-9128-8158ff84e35b"
      },
      "source": [
        "course = 'PythonProgramming'\n",
        "# P  y  t  h  o  n  P  r  o  g  r  a  m  m  i  n  g\n",
        "# 0  1  2  3  4  5  6  7  8  9  10 11 12 13 14 15 16\n",
        "# Strings are saved like this, to allow Indexing & Slicing operators\n",
        "\n",
        "# Indexing\n",
        "# allows us to grab a single character from a String\n",
        "# print(Variable[IndexNumber]) # Indexing uses []\n",
        "print(course)\n",
        "print(course[6])\n",
        "print(course[15])\n",
        "\n",
        "# Negative Indexing\n",
        "# start from last character as -1,-2,-3,-4,-5,etc (Reverse)\n",
        "print(course[-1])\n",
        "print(course[-3])"
      ],
      "execution_count": null,
      "outputs": [
        {
          "output_type": "stream",
          "text": [
            "PythonProgramming\n",
            "P\n",
            "n\n",
            "g\n",
            "i\n"
          ],
          "name": "stdout"
        }
      ]
    },
    {
      "cell_type": "code",
      "metadata": {
        "colab": {
          "base_uri": "https://localhost:8080/"
        },
        "id": "TqLh1di_OcfQ",
        "outputId": "2105117b-adc4-40f6-d3fe-f404afef20f2"
      },
      "source": [
        "course = 'PythonProgramming'\n",
        "# P  y  t  h  o  n  P  r  o  g  r  a  m  m  i  n  g\n",
        "# 0  1  2  3  4  5  6  7  8  9  10 11 12 13 14 15 16\n",
        "\n",
        "# Slicing\n",
        "# allows us to grab a portion or sub portion of a String\n",
        "# Syntax : variable[startIndex:stopIndex]\n",
        "# startIndex --> where sliciing begins (INCLUSIVE)\n",
        "# stopIndex --> where slicing ends (EXCLUSIVE)  ---> Python will not going to print EXCLUSIVE characters (stopIndex)\n",
        "print(course[6:13])\n",
        "print(course[0:6])\n",
        "\n",
        "# nProgram\n",
        "print(course[5:13])\n",
        "\n",
        "# in Slicing if startIndex is not specified, then slicing begins from index 0 by default\n",
        "# if stopIndex is not specified, then slicing goes til the last character\n",
        "print(course[:6])  # --> automatically ,empty startIndex = 0\n",
        "print(course[6:])\n",
        "\n",
        "# variable(startIndex:stopIndex:stepCount)\n",
        "# stepCount --> Intervals\n",
        "print(course[0:13:2])\n",
        "print(course[0:13:3])"
      ],
      "execution_count": null,
      "outputs": [
        {
          "output_type": "stream",
          "text": [
            "Program\n",
            "Python\n",
            "nProgram\n",
            "Python\n",
            "Programming\n",
            "PtoPorm\n",
            "PhPgm\n"
          ],
          "name": "stdout"
        }
      ]
    },
    {
      "cell_type": "code",
      "metadata": {
        "id": "5FEhLMhNZLHx"
      },
      "source": [
        "# Python Operators\n",
        "\n",
        "# Arithmetic Operator\n",
        "# + - * / // %\n",
        "\n",
        "# Assignment Operator\n",
        "#=\n",
        "#right to left"
      ],
      "execution_count": null,
      "outputs": []
    },
    {
      "cell_type": "code",
      "metadata": {
        "colab": {
          "base_uri": "https://localhost:8080/"
        },
        "id": "9GkGAgDIbQER",
        "outputId": "42a5c24b-db87-42c0-e356-d0e395ba2601"
      },
      "source": [
        "# Comparison Operator\n",
        "# ==  >  <  <=  >=  !=\n",
        "# return Boolean (True / False) value\n",
        "\n",
        "x = 10\n",
        "y = 20\n",
        "\n",
        "print(x==y)\n",
        "print(x<y)\n",
        "print(x>y)\n",
        "print(x!=y)\n"
      ],
      "execution_count": null,
      "outputs": [
        {
          "output_type": "stream",
          "text": [
            "False\n",
            "True\n",
            "False\n",
            "True\n"
          ],
          "name": "stdout"
        }
      ]
    },
    {
      "cell_type": "code",
      "metadata": {
        "colab": {
          "base_uri": "https://localhost:8080/"
        },
        "id": "_IgwqQIyc5m9",
        "outputId": "bceb2cae-422a-4f08-cf8c-cf653dfa0def"
      },
      "source": [
        "age = 13\n",
        "print(\"Eligible for driving\",age>=18)"
      ],
      "execution_count": null,
      "outputs": [
        {
          "output_type": "stream",
          "text": [
            "Eligible for driving False\n"
          ],
          "name": "stdout"
        }
      ]
    },
    {
      "cell_type": "code",
      "metadata": {
        "colab": {
          "base_uri": "https://localhost:8080/"
        },
        "id": "GSkJtbDAdkFg",
        "outputId": "8b97bbf2-ddd2-4ba1-de7d-057468488602"
      },
      "source": [
        "# Logical Operator\n",
        "# AND  OR  NOT\n",
        "# used to check the condition\n",
        "\n",
        "a = 100\n",
        "b = 200\n",
        "\n",
        "# AND\n",
        "# returns True if BOTH the conditions are true\n",
        "print(a==100 and b==200)\n",
        "print(a==120 and b==200)\n",
        "\n"
      ],
      "execution_count": null,
      "outputs": [
        {
          "output_type": "stream",
          "text": [
            "True\n",
            "False\n"
          ],
          "name": "stdout"
        }
      ]
    },
    {
      "cell_type": "code",
      "metadata": {
        "colab": {
          "base_uri": "https://localhost:8080/"
        },
        "id": "u_IMczXLc4zq",
        "outputId": "d4d0d474-35e6-424a-9955-4723cdfed479"
      },
      "source": [
        "# OR\n",
        "# returns True if ANY of the condition is true\n",
        "\n",
        "x = 100\n",
        "y = 200\n",
        "\n",
        "print(x==100 or b==200)\n",
        "print(x==100 or b==345)\n",
        "print(x==121 or y==234) # only if ALL the conditions are false, then it returns FALSE"
      ],
      "execution_count": null,
      "outputs": [
        {
          "output_type": "stream",
          "text": [
            "True\n",
            "True\n",
            "False\n"
          ],
          "name": "stdout"
        }
      ]
    },
    {
      "cell_type": "code",
      "metadata": {
        "colab": {
          "base_uri": "https://localhost:8080/"
        },
        "id": "dYLvnyLXgi9X",
        "outputId": "2cffd206-51fa-4270-fccf-a75697ee67c9"
      },
      "source": [
        "# NOT\n",
        "# used to reverse the result\n",
        "\n",
        "a = 10\n",
        "b = 20\n",
        "\n",
        "print(not(a==10 and b==20))\n",
        "print(not(a==10 and b==24))"
      ],
      "execution_count": null,
      "outputs": [
        {
          "output_type": "stream",
          "text": [
            "False\n",
            "True\n"
          ],
          "name": "stdout"
        }
      ]
    },
    {
      "cell_type": "code",
      "metadata": {
        "colab": {
          "base_uri": "https://localhost:8080/"
        },
        "id": "UYpQBgm2g-Br",
        "outputId": "3b1b490b-ba62-4bee-e547-ae08d39931a0"
      },
      "source": [
        "# Membership Operator\n",
        "# in        not in\n",
        "\n",
        "# in --> used to check whether given value exist in a sequence\n",
        "course = \"Python is very easy\"\n",
        "print(\"very\" in course)\n",
        "print(\"difficult\" in course)\n",
        "\n",
        "# not in\n",
        "print(\"difficult\" not in course)"
      ],
      "execution_count": null,
      "outputs": [
        {
          "output_type": "stream",
          "text": [
            "True\n",
            "False\n",
            "True\n"
          ],
          "name": "stdout"
        }
      ]
    },
    {
      "cell_type": "code",
      "metadata": {
        "colab": {
          "base_uri": "https://localhost:8080/"
        },
        "id": "Bv74ln9WleWX",
        "outputId": "2340f8ba-3817-4a55-b0c8-68df7a42307f"
      },
      "source": [
        "# Conditional Statement\n",
        "# if   elif   else\n",
        "# putting restrictions\n",
        "\n",
        "# if conditional statement\n",
        "\n",
        "age = 19\n",
        "\n",
        "if age>=18:\n",
        "  print('Eligible for driving license')   #the whitespace at the start is Identation (body of IF)\n",
        "  print('I am still in IF')\n",
        "\n",
        "print('tfggff')  # need to press backspace to exit from the body of IF           #***$^%%^43#@%$"
      ],
      "execution_count": null,
      "outputs": [
        {
          "output_type": "stream",
          "text": [
            "Eligible for driving license\n",
            "I am still in IF\n",
            "tfggff\n"
          ],
          "name": "stdout"
        }
      ]
    },
    {
      "cell_type": "code",
      "metadata": {
        "colab": {
          "base_uri": "https://localhost:8080/"
        },
        "id": "vJ-UWhvVx815",
        "outputId": "68b9fb5d-a2e8-409d-c73f-edde3f5bc7c0"
      },
      "source": [
        "# else conditional statement\n",
        "# cannot write conditions in else\n",
        "\n",
        "age = 3\n",
        "\n",
        "if age>=18:\n",
        "  print(\"Eligible for driving\")\n",
        "else:\n",
        "  print(\"Not Eligible\")\n"
      ],
      "execution_count": null,
      "outputs": [
        {
          "output_type": "stream",
          "text": [
            "Not Eligible\n"
          ],
          "name": "stdout"
        }
      ]
    },
    {
      "cell_type": "code",
      "metadata": {
        "colab": {
          "base_uri": "https://localhost:8080/"
        },
        "id": "6yBy2NdJy7DY",
        "outputId": "39e208a7-9b88-4383-8594-af9d046c947e"
      },
      "source": [
        "# elif\n",
        "# can write conditions\n",
        "\n",
        "num = -90\n",
        "\n",
        "if num<0:\n",
        "  print('Negative number')\n",
        "elif num==0:\n",
        "  print('Number is zero')\n",
        "else:\n",
        "  print('Positive number')"
      ],
      "execution_count": null,
      "outputs": [
        {
          "output_type": "stream",
          "text": [
            "Negative number\n"
          ],
          "name": "stdout"
        }
      ]
    },
    {
      "cell_type": "code",
      "metadata": {
        "id": "MRCkwPXK4DZL"
      },
      "source": [
        "value = 80\n",
        "\n",
        "if value"
      ],
      "execution_count": null,
      "outputs": []
    }
  ]
}