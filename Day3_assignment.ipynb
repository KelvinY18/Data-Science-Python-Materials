{
  "nbformat": 4,
  "nbformat_minor": 0,
  "metadata": {
    "colab": {
      "provenance": []
    },
    "kernelspec": {
      "name": "python3",
      "display_name": "Python 3"
    },
    "language_info": {
      "name": "python"
    }
  },
  "cells": [
    {
      "cell_type": "code",
      "metadata": {
        "id": "Nrd60Ph4lX_r",
        "colab": {
          "base_uri": "https://localhost:8080/"
        },
        "outputId": "68e866e7-d772-4c07-c796-1cc3ac663875"
      },
      "source": [
        "# break    continue    else\n",
        "\n",
        "# Break Statement\n",
        "# stop the loop\n",
        "\n",
        "for char in \"Python\":\n",
        "  if char == \"h\":\n",
        "    break\n",
        "  print(char"
      ],
      "execution_count": null,
      "outputs": [
        {
          "output_type": "stream",
          "text": [
            "P\n",
            "y\n",
            "t\n"
          ],
          "name": "stdout"
        }
      ]
    },
    {
      "cell_type": "code",
      "metadata": {
        "colab": {
          "base_uri": "https://localhost:8080/"
        },
        "id": "VEeWoJbkzeQs",
        "outputId": "76505fce-a2a3-4df6-f2f6-aa656b9ffb14"
      },
      "source": [
        "# Continue Statement\n",
        "# can stop the current loop and continue with the next\n",
        "\n",
        "for char in \"Python\":\n",
        "  if char == \"o\":\n",
        "    continue\n",
        "  print(char)"
      ],
      "execution_count": null,
      "outputs": [
        {
          "output_type": "stream",
          "text": [
            "P\n",
            "y\n",
            "t\n",
            "h\n",
            "n\n"
          ],
          "name": "stdout"
        }
      ]
    },
    {
      "cell_type": "code",
      "metadata": {
        "colab": {
          "base_uri": "https://localhost:8080/"
        },
        "id": "kvBDDz620XbE",
        "outputId": "7b35b5aa-fd95-41c0-b403-dcdbdd84697f"
      },
      "source": [
        "# Else Statement\n",
        "# specifies a block of code when the loop is finished\n",
        "\n",
        "for x in range(6):\n",
        "  print(x)\n",
        "else:\n",
        "  print(\"Finally Finished!\")"
      ],
      "execution_count": null,
      "outputs": [
        {
          "output_type": "stream",
          "text": [
            "0\n",
            "1\n",
            "2\n",
            "3\n",
            "4\n",
            "5\n",
            "Finally Finished!\n"
          ],
          "name": "stdout"
        }
      ]
    },
    {
      "cell_type": "code",
      "metadata": {
        "id": "6fiabjFb2NPy"
      },
      "source": [
        "# FUNCTIONS\n",
        "# Syntax :\n",
        "# def functionName:\n",
        "# statements\n",
        "\n",
        "def greetUser():\n",
        "  print('Welcome User')  # will not have output because not yet called"
      ],
      "execution_count": null,
      "outputs": []
    },
    {
      "cell_type": "code",
      "metadata": {
        "colab": {
          "base_uri": "https://localhost:8080/"
        },
        "id": "ZLyODiJk4nZx",
        "outputId": "844d1bc9-2033-4eaf-f2bc-c7747a958b1b"
      },
      "source": [
        "greetUser()"
      ],
      "execution_count": null,
      "outputs": [
        {
          "output_type": "stream",
          "text": [
            "Welcome User\n"
          ],
          "name": "stdout"
        }
      ]
    },
    {
      "cell_type": "code",
      "metadata": {
        "id": "-hxQqMb35ghu"
      },
      "source": [
        "# Docstring\n",
        "def welcomeUser():\n",
        "  \"\"\"This Function welcome the User\"\"\"\n",
        "  print(\"Hello User, how are you today?\")"
      ],
      "execution_count": null,
      "outputs": []
    },
    {
      "cell_type": "code",
      "metadata": {
        "colab": {
          "base_uri": "https://localhost:8080/"
        },
        "id": "bj621gAp4eLB",
        "outputId": "d66d518d-b554-4d0b-b82c-e6c555fb323b"
      },
      "source": [
        "welcomeUser()"
      ],
      "execution_count": null,
      "outputs": [
        {
          "output_type": "stream",
          "text": [
            "Hello User, how are you today?\n"
          ],
          "name": "stdout"
        }
      ]
    },
    {
      "cell_type": "code",
      "metadata": {
        "colab": {
          "base_uri": "https://localhost:8080/"
        },
        "id": "kyV-GgPr8JIx",
        "outputId": "336ec94f-e0c3-4560-de7b-6133cd80cc17"
      },
      "source": [
        "# ways to check docstring\n",
        "# 1.\n",
        "help(welcomeUser)"
      ],
      "execution_count": null,
      "outputs": [
        {
          "output_type": "stream",
          "text": [
            "Help on function welcomeUser in module __main__:\n",
            "\n",
            "welcomeUser()\n",
            "    This Function welcome the User\n",
            "\n"
          ],
          "name": "stdout"
        }
      ]
    },
    {
      "cell_type": "code",
      "metadata": {
        "colab": {
          "base_uri": "https://localhost:8080/"
        },
        "id": "s7cBIAl185Jb",
        "outputId": "1cc543ea-e1a3-49aa-afd7-11290703277f"
      },
      "source": [
        "# 2.\n",
        "print(welcomeUser.__doc__)"
      ],
      "execution_count": null,
      "outputs": [
        {
          "output_type": "stream",
          "text": [
            "This Function welcome the User\n"
          ],
          "name": "stdout"
        }
      ]
    },
    {
      "cell_type": "code",
      "metadata": {
        "colab": {
          "base_uri": "https://localhost:8080/"
        },
        "id": "_8bBd2DC9MaC",
        "outputId": "a61f02a3-4867-49b9-b897-78e9a5d5b95b"
      },
      "source": [
        "# Python Functions without Arguments\n",
        "# Functions will add two numbers\n",
        "\n",
        "def add_two_numbers():\n",
        "  val1 = 100\n",
        "  val2 = 564\n",
        "  res = val1 + val2\n",
        "  print(res)\n",
        "\n",
        "add_two_numbers()"
      ],
      "execution_count": null,
      "outputs": [
        {
          "output_type": "stream",
          "text": [
            "664\n"
          ],
          "name": "stdout"
        }
      ]
    },
    {
      "cell_type": "code",
      "metadata": {
        "id": "7de5VyGr-G99"
      },
      "source": [
        "# Python Functions with Arguments\n",
        "\n",
        "def greetUser(name):\n",
        "  print(\"Welcome User\",name,\"Your are Awesome\")"
      ],
      "execution_count": null,
      "outputs": []
    },
    {
      "cell_type": "code",
      "metadata": {
        "colab": {
          "base_uri": "https://localhost:8080/"
        },
        "id": "UTKlZTAEEblV",
        "outputId": "360dcc79-1c1c-463f-8e0c-3c2676cf7bef"
      },
      "source": [
        "greetUser('Kelvin')\n",
        "greetUser('Jennifer')"
      ],
      "execution_count": null,
      "outputs": [
        {
          "output_type": "stream",
          "text": [
            "Welcome User Kelvin Your are Awesome\n",
            "Welcome User Jennifer Your are Awesome\n"
          ],
          "name": "stdout"
        }
      ]
    },
    {
      "cell_type": "code",
      "metadata": {
        "colab": {
          "base_uri": "https://localhost:8080/"
        },
        "id": "G5aN6hYsEswD",
        "outputId": "c12f978a-3f13-4c96-c6a4-b0c8c2139721"
      },
      "source": [
        "# Check whether the entered is EVEN or ODD\n",
        "\n",
        "def checkEvenOdd(iGotThisValue):\n",
        "  if iGotThisValue % 2 == 0:\n",
        "    print('Even number')\n",
        "  else:\n",
        "    print('Odd number')\n",
        "\n",
        "num = int(input('Enter any number : '))\n",
        "checkEvenOdd(num)"
      ],
      "execution_count": null,
      "outputs": [
        {
          "output_type": "stream",
          "text": [
            "Enter any number : 30\n",
            "Even number\n"
          ],
          "name": "stdout"
        }
      ]
    },
    {
      "cell_type": "code",
      "metadata": {
        "colab": {
          "base_uri": "https://localhost:8080/"
        },
        "id": "ICWvhcBZHDgQ",
        "outputId": "82f21654-54d2-44e7-9066-902046bd421b"
      },
      "source": [
        "# Return Statement\n",
        "# allows us to assign the output of  function to a new variable\n",
        "\n",
        "def add_numbers(a,b):\n",
        "  return a+b\n",
        "\n",
        "result = add_numbers(23,46)\n",
        "print(result)"
      ],
      "execution_count": null,
      "outputs": [
        {
          "output_type": "stream",
          "text": [
            "69\n"
          ],
          "name": "stdout"
        }
      ]
    },
    {
      "cell_type": "code",
      "metadata": {
        "colab": {
          "base_uri": "https://localhost:8080/"
        },
        "id": "TXcvMHFdItNz",
        "outputId": "45d1d209-8b77-4988-88f0-e28106f4b54f"
      },
      "source": [
        "def checkEvenOdd(num):\n",
        "  return num%2==0\n",
        "\n",
        "result = checkEvenOdd(30)\n",
        "if result:\n",
        "  print('Even Number')\n",
        "else:\n",
        "  print('Odd Number')"
      ],
      "execution_count": null,
      "outputs": [
        {
          "output_type": "stream",
          "text": [
            "Even Number\n"
          ],
          "name": "stdout"
        }
      ]
    }
  ]
}