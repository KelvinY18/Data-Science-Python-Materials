{
  "nbformat": 4,
  "nbformat_minor": 0,
  "metadata": {
    "colab": {
      "provenance": []
    },
    "kernelspec": {
      "name": "python3",
      "display_name": "Python 3"
    },
    "language_info": {
      "name": "python"
    }
  },
  "cells": [
    {
      "cell_type": "code",
      "metadata": {
        "colab": {
          "base_uri": "https://localhost:8080/"
        },
        "id": "H5GWZKYy74no",
        "outputId": "dc2b2d14-99f5-460b-fe93-6d7015ac77b0"
      },
      "source": [
        "# list    tuple    set   dictionary\n",
        "\n",
        "# List\n",
        "# ordered collection of elements\n",
        "# allow us to have duplicate elements\n",
        "# mutable --> modifiable\n",
        "# uses square bracket notation []\n",
        "\n",
        "myList = [10,20,30,40,50]\n",
        "print(myList)\n",
        "print(type(myList))"
      ],
      "execution_count": null,
      "outputs": [
        {
          "output_type": "stream",
          "text": [
            "[10, 20, 30, 40, 50]\n",
            "<class 'list'>\n"
          ],
          "name": "stdout"
        }
      ]
    },
    {
      "cell_type": "code",
      "metadata": {
        "colab": {
          "base_uri": "https://localhost:8080/"
        },
        "id": "ei0dXFVnFSNJ",
        "outputId": "b7af5f67-d874-41a8-cb2b-31199f46737e"
      },
      "source": [
        "print(myList[0])   # indexing\n",
        "print(myList[1:4])  # slicing\n",
        "print(myList[1:4:2])\n",
        "print(myList[-1])"
      ],
      "execution_count": null,
      "outputs": [
        {
          "output_type": "stream",
          "text": [
            "10\n",
            "[20, 30, 40]\n",
            "[20, 40]\n",
            "50\n"
          ],
          "name": "stdout"
        }
      ]
    },
    {
      "cell_type": "code",
      "metadata": {
        "colab": {
          "base_uri": "https://localhost:8080/"
        },
        "id": "7bx0eH9VF9Gv",
        "outputId": "a73f3e50-c125-4e33-aed5-5527459cfa3e"
      },
      "source": [
        "# List is mutable\n",
        "\n",
        "myList = [10,20,30,40,50,60]\n",
        "print(myList)\n",
        "\n",
        "myList[1] = 200\n",
        "print(myList)\n"
      ],
      "execution_count": null,
      "outputs": [
        {
          "output_type": "stream",
          "text": [
            "[10, 20, 30, 40, 50, 60]\n",
            "[10, 200, 30, 40, 50, 60]\n"
          ],
          "name": "stdout"
        }
      ]
    },
    {
      "cell_type": "code",
      "metadata": {
        "colab": {
          "base_uri": "https://localhost:8080/"
        },
        "id": "XWlvrJsPF9C_",
        "outputId": "f8d62b1b-7ffd-49a9-9a81-176912e4dfb3"
      },
      "source": [
        "# Iteration over List\n",
        "\n",
        "myList = [10,20,30,40,50]\n",
        "\n",
        "for everyItem in myList:\n",
        "  print(everyItem)\n"
      ],
      "execution_count": null,
      "outputs": [
        {
          "output_type": "stream",
          "text": [
            "10\n",
            "20\n",
            "30\n",
            "40\n",
            "50\n"
          ],
          "name": "stdout"
        }
      ]
    },
    {
      "cell_type": "code",
      "metadata": {
        "colab": {
          "base_uri": "https://localhost:8080/"
        },
        "id": "tJ_6JdUzHEfH",
        "outputId": "f8011f22-eb46-40e6-fba4-d69c1f6cc4dd"
      },
      "source": [
        "# len    range\n",
        "\n",
        "# len --> used to return number of elements in List\n",
        "\n",
        "print(len(myList))"
      ],
      "execution_count": null,
      "outputs": [
        {
          "output_type": "stream",
          "text": [
            "5\n"
          ],
          "name": "stdout"
        }
      ]
    },
    {
      "cell_type": "code",
      "metadata": {
        "id": "Q6LRvhPxIj45",
        "colab": {
          "base_uri": "https://localhost:8080/"
        },
        "outputId": "358c99c1-e0d7-4c8d-9fab-ae025b4b6072"
      },
      "source": [
        "for index in range(len(myList)):\n",
        "  print('Index',index,':',myList[index])"
      ],
      "execution_count": null,
      "outputs": [
        {
          "output_type": "stream",
          "text": [
            "Index 0 : 10\n",
            "Index 1 : 20\n",
            "Index 2 : 30\n",
            "Index 3 : 40\n",
            "Index 4 : 50\n"
          ],
          "name": "stdout"
        }
      ]
    },
    {
      "cell_type": "code",
      "metadata": {
        "colab": {
          "base_uri": "https://localhost:8080/"
        },
        "id": "etkteI2DcftP",
        "outputId": "b328a26f-0657-4567-d47b-877e3d8e2f62"
      },
      "source": [
        "# InBuilt Methods of List\n",
        "\n",
        "myList = [10,20,30,40,50]\n",
        "print(myList)\n",
        "\n",
        "# 1. append() --> used to add an Item at the end of our List\n",
        "myList.append(60)\n",
        "print(myList)"
      ],
      "execution_count": null,
      "outputs": [
        {
          "output_type": "stream",
          "text": [
            "[10, 20, 30, 40, 50]\n",
            "[10, 20, 30, 40, 50, 60]\n"
          ],
          "name": "stdout"
        }
      ]
    },
    {
      "cell_type": "code",
      "metadata": {
        "colab": {
          "base_uri": "https://localhost:8080/"
        },
        "id": "AT5k2bzxddwP",
        "outputId": "ea0753d3-8fe1-4c17-d6a7-00a24bcc2570"
      },
      "source": [
        "# 2. insert(index,value)  -->  used to add an Item at specific position\n",
        "myList.insert(1,100)\n",
        "print(myList)"
      ],
      "execution_count": null,
      "outputs": [
        {
          "output_type": "stream",
          "text": [
            "[10, 100, 20, 30, 40, 50, 60]\n"
          ],
          "name": "stdout"
        }
      ]
    },
    {
      "cell_type": "code",
      "metadata": {
        "colab": {
          "base_uri": "https://localhost:8080/"
        },
        "id": "WOlFF3Fdd9z8",
        "outputId": "2130be1d-0762-4245-8ec4-0f0790a22c0b"
      },
      "source": [
        "# 3. pop(index)  -->  used to delete an Item from a specific position\n",
        "myList.pop(1)\n",
        "print(myList)"
      ],
      "execution_count": null,
      "outputs": [
        {
          "output_type": "stream",
          "text": [
            "[10, 20, 30, 40, 50, 60]\n"
          ],
          "name": "stdout"
        }
      ]
    },
    {
      "cell_type": "code",
      "metadata": {
        "colab": {
          "base_uri": "https://localhost:8080/"
        },
        "id": "TPJFgXfCepZX",
        "outputId": "8d73b667-4afc-407c-fd86-640e94194a12"
      },
      "source": [
        "# 4. pop()  --> if no index number given, it will delete the last element\n",
        "myList.pop()\n",
        "print(myList)"
      ],
      "execution_count": null,
      "outputs": [
        {
          "output_type": "stream",
          "text": [
            "[10, 20, 30, 40, 50]\n"
          ],
          "name": "stdout"
        }
      ]
    },
    {
      "cell_type": "code",
      "metadata": {
        "colab": {
          "base_uri": "https://localhost:8080/"
        },
        "id": "Pmfk1x0mfNlZ",
        "outputId": "4d1d7bdd-23cc-47b8-9c4f-06b2f048e17a"
      },
      "source": [
        "# 5. remove  --> use to remove a given value from a List (when the index is unknown)\n",
        "myList.remove(40)\n",
        "print(myList)"
      ],
      "execution_count": null,
      "outputs": [
        {
          "output_type": "stream",
          "text": [
            "[10, 20, 30, 50]\n"
          ],
          "name": "stdout"
        }
      ]
    },
    {
      "cell_type": "code",
      "metadata": {
        "colab": {
          "base_uri": "https://localhost:8080/"
        },
        "id": "fOReYesBf92p",
        "outputId": "a8c7d5ad-d827-4eaf-a337-73e1e58b70dc"
      },
      "source": [
        "# 6. reverse()  -->  used to print our List in reverse order\n",
        "myList.reverse()\n",
        "print(myList)"
      ],
      "execution_count": null,
      "outputs": [
        {
          "output_type": "stream",
          "text": [
            "[50, 30, 20, 10]\n"
          ],
          "name": "stdout"
        }
      ]
    },
    {
      "cell_type": "code",
      "metadata": {
        "colab": {
          "base_uri": "https://localhost:8080/"
        },
        "id": "0sgaqVYlC62f",
        "outputId": "32f45d1b-fdba-4e4a-da9b-3ab2ed191d1f"
      },
      "source": [
        "# sum() --> calculates the sum of all elements in the List\n",
        "print(sum(myList))"
      ],
      "execution_count": null,
      "outputs": [
        {
          "output_type": "stream",
          "text": [
            "110\n"
          ],
          "name": "stdout"
        }
      ]
    },
    {
      "cell_type": "code",
      "metadata": {
        "colab": {
          "base_uri": "https://localhost:8080/"
        },
        "id": "36OzJa6ygUog",
        "outputId": "918674da-1035-4214-cd6e-c4320327e517"
      },
      "source": [
        "# Tuple\n",
        "# ordered collection of elements\n",
        "# immutable  --> cant change\n",
        "# uses parentheses ()\n",
        "\n",
        "myTuple = (10,20,30,40,50)\n",
        "print(myTuple)\n",
        "print(type(myTuple))"
      ],
      "execution_count": null,
      "outputs": [
        {
          "output_type": "stream",
          "text": [
            "(10, 20, 30, 40, 50)\n",
            "<class 'tuple'>\n"
          ],
          "name": "stdout"
        }
      ]
    },
    {
      "cell_type": "code",
      "metadata": {
        "colab": {
          "base_uri": "https://localhost:8080/"
        },
        "id": "XpCoHK4IFNRW",
        "outputId": "6e4efb28-4208-4cf7-d197-66f3b2f9f4af"
      },
      "source": [
        "myTuple = (10,20,30,40,'Bean',90.21)\n",
        "print(myTuple)    # format is kept"
      ],
      "execution_count": null,
      "outputs": [
        {
          "output_type": "stream",
          "text": [
            "(10, 20, 30, 40, 'Bean', 90.21)\n"
          ],
          "name": "stdout"
        }
      ]
    },
    {
      "cell_type": "code",
      "metadata": {
        "colab": {
          "base_uri": "https://localhost:8080/"
        },
        "id": "1xwYqVsXhkC1",
        "outputId": "f5ec0a9b-e497-4146-c524-e5631e5ab501"
      },
      "source": [
        "# can do indexing,slicing,loop\n",
        "\n",
        "# Empty Tuple     #iv question\n",
        "myTuple = ()\n",
        "print(myTuple)\n",
        "print(type(myTuple))\n",
        "\n",
        "# Empty List\n",
        "myList = []\n",
        "print(myList)\n",
        "print(type(myList))"
      ],
      "execution_count": null,
      "outputs": [
        {
          "output_type": "stream",
          "text": [
            "()\n",
            "<class 'tuple'>\n",
            "[]\n",
            "<class 'list'>\n"
          ],
          "name": "stdout"
        }
      ]
    },
    {
      "cell_type": "code",
      "metadata": {
        "colab": {
          "base_uri": "https://localhost:8080/"
        },
        "id": "cemVLFVPiiZX",
        "outputId": "34ce74dd-8f97-4a6b-a427-ec762fa67b50"
      },
      "source": [
        "# if nothing is used, automatically becomes Tuple\n",
        "myVar = 10,20,'Kelvin',90.21\n",
        "print(type(myVar))"
      ],
      "execution_count": null,
      "outputs": [
        {
          "output_type": "stream",
          "text": [
            "<class 'tuple'>\n"
          ],
          "name": "stdout"
        }
      ]
    },
    {
      "cell_type": "code",
      "metadata": {
        "id": "6SDtUx6xjEQZ",
        "colab": {
          "base_uri": "https://localhost:8080/"
        },
        "outputId": "6245a649-c63c-41e7-9513-936f5fa89960"
      },
      "source": [
        "oneElement = (10,)\n",
        "print(type(oneElement))"
      ],
      "execution_count": null,
      "outputs": [
        {
          "output_type": "stream",
          "text": [
            "<class 'tuple'>\n"
          ],
          "name": "stdout"
        }
      ]
    },
    {
      "cell_type": "code",
      "metadata": {
        "id": "d1inI3uOjRrq"
      },
      "source": [
        "# Tuple is immutable\n",
        "\n",
        "myTuple = (10,20,30,40,50)\n",
        "print(myTuple)\n",
        "\n",
        "myTuple[1] = 200\n",
        "print(myTuple)    # will return error because unlike List,Tuple cant be updated\n",
        "\n"
      ],
      "execution_count": null,
      "outputs": []
    },
    {
      "cell_type": "code",
      "metadata": {
        "id": "y3Ev3e0RkHS1"
      },
      "source": [
        "# Tuple is used to save sensitive information\n",
        "# because once it is declared,it cant be updated and changed\n",
        "\n",
        "# List is used so modifications can be done\n"
      ],
      "execution_count": null,
      "outputs": []
    },
    {
      "cell_type": "code",
      "metadata": {
        "colab": {
          "base_uri": "https://localhost:8080/"
        },
        "id": "I8jGbIHLk8ng",
        "outputId": "1f62830c-1823-4bb4-d2e9-69b5f82214e2"
      },
      "source": [
        "# Functions of Tuple\n",
        "\n",
        "myTuple = (10,20,30,40,50,10,10,10,10,60,70,80,90,10,10,20)\n",
        "# count(value)  -->  used to count the occurence of given value\n",
        "print(myTuple.count(10))\n",
        "# len\n",
        "print(len(myTuple))\n",
        "# max min\n",
        "print(max(myTuple))\n",
        "print(min(myTuple))\n",
        "# membership operator\n",
        "print(10 in myTuple)"
      ],
      "execution_count": null,
      "outputs": [
        {
          "output_type": "stream",
          "text": [
            "7\n",
            "16\n",
            "90\n",
            "10\n",
            "True\n"
          ],
          "name": "stdout"
        }
      ]
    },
    {
      "cell_type": "code",
      "metadata": {
        "colab": {
          "base_uri": "https://localhost:8080/"
        },
        "id": "udlxUYuEmWTh",
        "outputId": "f31751c9-d1ad-4003-f478-1977fe420379"
      },
      "source": [
        "# Set\n",
        "# unordered collection of elements\n",
        "# not fixed\n",
        "# does not allow duplicate values\n",
        "# eg. Chicago Data Crime\n",
        "# uses {} calibraces\n",
        "\n",
        "mySet = {10,20,30,40,10,20,50,60,30,50,70,80,10,20,30}\n",
        "print(mySet)  # no duplicate values\n",
        "\n",
        "# empty Set\n",
        "\n",
        "emptySet = {}\n",
        "print(type(emptySet))   # because Dictionary also use {}\n",
        "\n",
        "emptySet = set()\n",
        "print(type(emptySet"
      ],
      "execution_count": null,
      "outputs": [
        {
          "output_type": "stream",
          "text": [
            "{70, 40, 10, 80, 50, 20, 60, 30}\n",
            "<class 'dict'>\n",
            "<class 'set'>\n"
          ],
          "name": "stdout"
        }
      ]
    },
    {
      "cell_type": "code",
      "metadata": {
        "colab": {
          "base_uri": "https://localhost:8080/"
        },
        "id": "ljMxyy8NIoY9",
        "outputId": "89801a33-38bf-43e5-8f05-a130f92a99b4"
      },
      "source": [
        "# How to know the unique count in List\n",
        "myList = [1,2,3,4,5,6,7,8,9,1,2,3,4,5,10,11,17,12,31,5,6]\n",
        "print(len(myList))\n",
        "print(len(set(myList)))"
      ],
      "execution_count": null,
      "outputs": [
        {
          "output_type": "stream",
          "text": [
            "21\n",
            "14\n"
          ],
          "name": "stdout"
        }
      ]
    },
    {
      "cell_type": "code",
      "metadata": {
        "id": "7ijVMV1Wold5"
      },
      "source": [
        "\n",
        "# myList = [10,20,30,40,10,20,30,50,60,40,20]\n",
        "# write a program which will return the count of unique values\n",
        "# 6\n",
        "\n",
        "# Hint : use for Loop\n",
        "# empty list --> append()\n",
        "\n",
        "myList = [10,20,30,40,10,20,30,50,60,40,20]\n",
        "unique_list = []\n",
        "for num in myList:\n",
        "  if num not in unique_list:\n",
        "    unique_list.append(num)\n",
        "\n",
        "print(unique_list)\n",
        "print('No. of unique element: ',len(unique_list))"
      ],
      "execution_count": null,
      "outputs": []
    },
    {
      "cell_type": "code",
      "metadata": {
        "id": "M2jkREiftar4"
      },
      "source": [
        "mySet = {10,20,30,40,10,20,30,50,60,40,20}\n",
        "print(mySet)"
      ],
      "execution_count": null,
      "outputs": []
    },
    {
      "cell_type": "code",
      "metadata": {
        "id": "KXvXn_Z5uYjK"
      },
      "source": [
        "m= [] = 0lements in mylist:\n",
        "    count = count +"
      ],
      "execution_count": null,
      "outputs": []
    },
    {
      "cell_type": "code",
      "metadata": {
        "id": "1Op3bJinw3fa"
      },
      "source": [
        "myList = [10,20,30,40,10,20,30,50,60,40,20]\n",
        "print(len(set(myList)))"
      ],
      "execution_count": null,
      "outputs": []
    },
    {
      "cell_type": "code",
      "metadata": {
        "id": "3kWxFNImx3gZ"
      },
      "source": [
        "# Empty Set\n",
        "mySet = {}\n",
        "print(type(mySet))"
      ],
      "execution_count": null,
      "outputs": []
    },
    {
      "cell_type": "code",
      "metadata": {
        "id": "kPsji11iyHIq"
      },
      "source": [
        "t\n",
        "# uses {} notation\n",
        "\n",
        "# Create a Dictionary\n",
        "ame':'Ke:'male'}o)info))"
      ],
      "execution_count": null,
      "outputs": []
    }
  ]
}