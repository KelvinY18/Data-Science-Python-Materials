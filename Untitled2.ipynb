{
  "nbformat": 4,
  "nbformat_minor": 0,
  "metadata": {
    "colab": {
      "provenance": []
    },
    "kernelspec": {
      "name": "python3",
      "display_name": "Python 3"
    },
    "language_info": {
      "name": "python"
    }
  },
  "cells": [
    {
      "cell_type": "code",
      "metadata": {
        "colab": {
          "base_uri": "https://localhost:8080/"
        },
        "id": "86Rbjzov0u7W",
        "outputId": "bbda6234-a36d-434e-b645-2e235f441102"
      },
      "source": [
        "marks = 3\n",
        "\n",
        "if (marks<=100 and marks>=90):\n",
        "  print(\"A Grade\")\n",
        "if (marks<=89 and marks>=75):\n",
        "  print(\"B Grade\")\n",
        "if (marks<=75 and marks>=65):\n",
        "  print(\"C Grade\")\n",
        "if (marks<=64 and marks>=50):\n",
        "  print(\"D Grade\")\n",
        "if (marks<=49 and marks>=0):\n",
        "  print(\"FAILED\")\n"
      ],
      "execution_count": null,
      "outputs": [
        {
          "output_type": "stream",
          "text": [
            "FAILED\n"
          ],
          "name": "stdout"
        }
      ]
    },
    {
      "cell_type": "code",
      "metadata": {
        "colab": {
          "base_uri": "https://localhost:8080/"
        },
        "id": "8F6R9VwI42zS",
        "outputId": "3d6037ed-0e04-4e1a-e9d3-f00bcb8e56dd"
      },
      "source": [
        "marks = 78\n",
        "\n",
        "if (marks<=100 and marks>=90):\n",
        "  print(\"A Grade\")\n",
        "elif (marks<=89 and marks>=75):\n",
        "  print(\"B Grade\")\n",
        "elif (marks<=75 and marks>=65):\n",
        "  print(\"C Grade\")\n",
        "elif (marks<=64 and marks>=50):\n",
        "  print(\"D Grade\")\n",
        "else:\n",
        "  print(\"FAILED\")\n"
      ],
      "execution_count": null,
      "outputs": [
        {
          "output_type": "stream",
          "text": [
            "B Grade\n"
          ],
          "name": "stdout"
        }
      ]
    }
  ]
}