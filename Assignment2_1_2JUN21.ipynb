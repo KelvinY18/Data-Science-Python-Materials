{
  "nbformat": 4,
  "nbformat_minor": 0,
  "metadata": {
    "colab": {
      "provenance": []
    },
    "kernelspec": {
      "name": "python3",
      "display_name": "Python 3"
    },
    "language_info": {
      "name": "python"
    }
  },
  "cells": [
    {
      "cell_type": "code",
      "metadata": {
        "id": "4VgYGFT1wlDz"
      },
      "source": [
        "# Functions In PYTHON\n",
        "\n",
        "# syntax\n",
        "# def functionName():\n",
        "#  statements\n",
        "\n",
        "def greetUser():\n",
        "  print('Welcome user')"
      ],
      "execution_count": null,
      "outputs": []
    },
    {
      "cell_type": "code",
      "metadata": {
        "colab": {
          "base_uri": "https://localhost:8080/"
        },
        "id": "T4Z18MrgxkQi",
        "outputId": "975acf4e-16ef-4a44-be3c-8724bc3a868d"
      },
      "source": [
        "greetUser()\n",
        "greetUser()\n",
        "greetUser()"
      ],
      "execution_count": null,
      "outputs": [
        {
          "output_type": "stream",
          "text": [
            "Welcome user\n",
            "Welcome user\n",
            "Welcome user\n"
          ],
          "name": "stdout"
        }
      ]
    },
    {
      "cell_type": "code",
      "metadata": {
        "id": "BJaK7m54yZJ9"
      },
      "source": [
        "# docstring\n",
        "def welcomeuser():\n",
        "  \"\"\"This Function Welcome The user\"\"\"\n",
        "  print(\"Hello Shantini, How Are You today?\")"
      ],
      "execution_count": null,
      "outputs": []
    },
    {
      "cell_type": "code",
      "metadata": {
        "colab": {
          "base_uri": "https://localhost:8080/"
        },
        "id": "jSXo0L1IzNVu",
        "outputId": "86778906-e265-44a9-b571-c46c9c2664bb"
      },
      "source": [
        "welcomeuser()"
      ],
      "execution_count": null,
      "outputs": [
        {
          "output_type": "stream",
          "text": [
            "Hello Shantini, How Are You today?\n"
          ],
          "name": "stdout"
        }
      ]
    },
    {
      "cell_type": "code",
      "metadata": {
        "colab": {
          "base_uri": "https://localhost:8080/"
        },
        "id": "uAtOSkirzhMh",
        "outputId": "7acd731d-6728-470e-8c33-508990232a31"
      },
      "source": [
        "help(welcomeuser)"
      ],
      "execution_count": null,
      "outputs": [
        {
          "output_type": "stream",
          "text": [
            "Help on function welcomeuser in module __main__:\n",
            "\n",
            "welcomeuser()\n",
            "    This Function Welcome The user\n",
            "\n"
          ],
          "name": "stdout"
        }
      ]
    },
    {
      "cell_type": "code",
      "metadata": {
        "colab": {
          "base_uri": "https://localhost:8080/"
        },
        "id": "ak3DFsf10BhP",
        "outputId": "6d444b43-b596-4f79-c652-d5ecf790fd06"
      },
      "source": [
        "# to get docstring of function\n",
        "# functionName.__doc__\n",
        "print(welcomeuser.__doc__)"
      ],
      "execution_count": null,
      "outputs": [
        {
          "output_type": "stream",
          "text": [
            "This Function Welcome The user\n"
          ],
          "name": "stdout"
        }
      ]
    },
    {
      "cell_type": "code",
      "metadata": {
        "colab": {
          "base_uri": "https://localhost:8080/"
        },
        "id": "ROZ8cBkr2Yy7",
        "outputId": "7f7f870a-9e04-47fc-a692-bc2099b092d3"
      },
      "source": [
        "# Python Functions Without Arguments\n",
        "# Function  Will Add Two Numbers\n",
        "\n",
        "def add_two_numbers():\n",
        "  val1 = 100\n",
        "  val2 = 564\n",
        "  res = val1 + val2\n",
        "  print(res)\n",
        "\n",
        "add_two_numbers()"
      ],
      "execution_count": null,
      "outputs": [
        {
          "output_type": "stream",
          "text": [
            "664\n"
          ],
          "name": "stdout"
        }
      ]
    },
    {
      "cell_type": "code",
      "metadata": {
        "id": "MunqhKdf39oO"
      },
      "source": [
        "# python Funcions With Arguments\n",
        "\n",
        "def greetuser(name):\n",
        "  print(\"Hello User\",name, \"You Are Awesome\")"
      ],
      "execution_count": null,
      "outputs": []
    },
    {
      "cell_type": "code",
      "metadata": {
        "colab": {
          "base_uri": "https://localhost:8080/"
        },
        "id": "we45rWkb4ar6",
        "outputId": "cd5b6b6c-523c-40b0-802c-cb8fd962952b"
      },
      "source": [
        "greetuser('Shantini')\n",
        "greetuser('Moju')\n",
        "greetuser('Thaneshmenon')"
      ],
      "execution_count": null,
      "outputs": [
        {
          "output_type": "stream",
          "text": [
            "Hello User Shantini You Are Awesome\n",
            "Hello User Moju You Are Awesome\n",
            "Hello User Thaneshmenon You Are Awesome\n"
          ],
          "name": "stdout"
        }
      ]
    },
    {
      "cell_type": "code",
      "metadata": {
        "colab": {
          "base_uri": "https://localhost:8080/"
        },
        "id": "dNhqHN8iBOMV",
        "outputId": "6bfd2ab6-1bd3-4a14-c0b2-93710bb4de61"
      },
      "source": [
        "# Return Statement\n",
        "# return allows us to aasign the output  of a function to a new variable\n",
        "\n",
        "def add_numbers(a,b):\n",
        "  return a+b\n",
        "\n",
        "result = add_numbers(23,46)\n",
        "print(result)"
      ],
      "execution_count": null,
      "outputs": [
        {
          "output_type": "stream",
          "text": [
            "69\n"
          ],
          "name": "stdout"
        }
      ]
    },
    {
      "cell_type": "code",
      "metadata": {
        "colab": {
          "base_uri": "https://localhost:8080/"
        },
        "id": "6sEg4O8SCZmp",
        "outputId": "5503a6f5-25cb-40fc-ee16-46b8b149cfc2"
      },
      "source": [
        "def checkEvenOdd(num):\n",
        "  return num%2==0\n",
        "\n",
        "result  = checkEvenOdd(30)\n",
        "if result:\n",
        "  print('Even Number')\n",
        "else:\n",
        "  print('Odd Number')"
      ],
      "execution_count": null,
      "outputs": [
        {
          "output_type": "stream",
          "text": [
            "Even Number\n"
          ],
          "name": "stdout"
        }
      ]
    }
  ]
}