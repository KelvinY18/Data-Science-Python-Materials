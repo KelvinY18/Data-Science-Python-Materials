{
  "nbformat": 4,
  "nbformat_minor": 0,
  "metadata": {
    "colab": {
      "provenance": []
    },
    "kernelspec": {
      "name": "python3",
      "display_name": "Python 3"
    },
    "language_info": {
      "name": "python"
    }
  },
  "cells": [
    {
      "cell_type": "code",
      "metadata": {
        "colab": {
          "base_uri": "https://localhost:8080/"
        },
        "id": "T6CUye1A9DSK",
        "outputId": "8fe0f1cb-b750-4f0d-a985-dc1660d27009"
      },
      "source": [
        "# Raw strings\n",
        "print('c:\\newFolder\\test') # \\n = New Line   , \\t = Tab Space\n",
        "\n",
        "print('rc:\\newFolder\\test')"
      ],
      "execution_count": null,
      "outputs": [
        {
          "output_type": "stream",
          "text": [
            "c:\n",
            "ewFolder\test\n",
            "rc:\n",
            "ewFolder\test\n"
          ],
          "name": "stdout"
        }
      ]
    },
    {
      "cell_type": "code",
      "metadata": {
        "colab": {
          "base_uri": "https://localhost:8080/"
        },
        "id": "p_B_bvLLIsts",
        "outputId": "d0599b1b-d1bc-46be-be28-e8695efc454d"
      },
      "source": [
        "# TASK\n",
        "\n",
        "print('Temperature : \\n\\n\\tKuala Lumpur : 27 degrees \\n\\tNew Delhi    : 16 degrees')\n",
        "\n",
        "print('''\n",
        "Temperature:\n",
        "\n",
        "  Kuala Lumpur : 27 degrees\n",
        "  New Delhi    : 16 degrees\n",
        "''')"
      ],
      "execution_count": null,
      "outputs": [
        {
          "output_type": "stream",
          "text": [
            "Temperature : \n",
            "\n",
            "\tKuala Lumpur : 27 degrees \n",
            "\tNew Delhi    : 16 degrees\n",
            "\n",
            "Temperature:\n",
            "\n",
            "  Kuala Lumpur : 27 degrees\n",
            "  New Delhi    : 16 degrees\n",
            "\n"
          ],
          "name": "stdout"
        }
      ]
    },
    {
      "cell_type": "code",
      "metadata": {
        "colab": {
          "base_uri": "https://localhost:8080/"
        },
        "id": "_yc0p0MdB-1T",
        "outputId": "8abadf0b-339d-48ef-ddc8-6f8725357110"
      },
      "source": [
        "# String Concatenation\n",
        "\n",
        "name1 = 'Josh'\n",
        "name2 = 'Turner'\n",
        "work = 'Python'\n",
        "price = 1050\n",
        "\n",
        "# Welcome Josh Tuner to the World of Python\n",
        "\n",
        "print('Welcome '+name1+' '+name2+' to the World of '+work+'. Fees will be '+str(price))\n",
        "\n",
        "# In string concatenation this + operator require left hand side value and right hand side value to be of STRING\n",
        "\n",
        "print('Welcome',name1,name2,'to the world of',work,'.The fees will be',price)"
      ],
      "execution_count": null,
      "outputs": [
        {
          "output_type": "stream",
          "text": [
            "Welcome Josh Turner to the World of Python. Fees will be 1050\n",
            "Welcome Josh Turner to the world of Python .The fees will be 1050\n"
          ],
          "name": "stdout"
        }
      ]
    },
    {
      "cell_type": "code",
      "metadata": {
        "colab": {
          "base_uri": "https://localhost:8080/"
        },
        "id": "wkv6Z4dhDyPq",
        "outputId": "7445c9e8-6422-4eab-fa65-ba6a52be15cf"
      },
      "source": [
        "# STRING Formatting\n",
        "# str.format()\n",
        "\n",
        "# 1. default_order\n",
        "\n",
        "default_order = \"{} {} {} and {}\". format('What','is','dancing','singing?')\n",
        "print(default_order)\n",
        "\n",
        "# 2. positional_order\n",
        "\n",
        "positional_order = \"{2} {0} {1}\". format('love','eating','I')\n",
        "print(positional_order)\n",
        "\n",
        "# 3. keyword_order\n",
        "\n",
        "keyword_order = \"{o} {t}\". format(o='Playing',t='golf')\n",
        "print(keyword_order)"
      ],
      "execution_count": null,
      "outputs": [
        {
          "output_type": "stream",
          "text": [
            "What is dancing and singing?\n",
            "I love eating\n",
            "Playing golf\n"
          ],
          "name": "stdout"
        }
      ]
    },
    {
      "cell_type": "code",
      "metadata": {
        "colab": {
          "base_uri": "https://localhost:8080/"
        },
        "id": "-Nw9Md-fGGuC",
        "outputId": "1eca1abe-ee19-4447-ae82-616d0d7768ff"
      },
      "source": [
        "# Type Conversion and Type Casting (same name)\n",
        "\n",
        "# Implicit Type Casting\n",
        "\n",
        "int_value = 23\n",
        "float_value = 45.22\n",
        "\n",
        "total = int_value + float_value\n",
        "\n",
        "print(total)\n",
        "# Python always convert smaller dataTypes to larger dataTypes"
      ],
      "execution_count": null,
      "outputs": [
        {
          "output_type": "stream",
          "text": [
            "68.22\n"
          ],
          "name": "stdout"
        }
      ]
    },
    {
      "cell_type": "code",
      "metadata": {
        "colab": {
          "base_uri": "https://localhost:8080/"
        },
        "id": "jwWvplGkGvzS",
        "outputId": "a243119f-5247-4675-a6d5-9a7b292da39a"
      },
      "source": [
        "# Explicit Type Conversion\n",
        "\n",
        "int_value = 38\n",
        "str_value = '41'\n",
        "\n",
        "total = int_value + int(str_value)\n",
        "print(total)"
      ],
      "execution_count": null,
      "outputs": [
        {
          "output_type": "stream",
          "text": [
            "79\n"
          ],
          "name": "stdout"
        }
      ]
    },
    {
      "cell_type": "code",
      "metadata": {
        "colab": {
          "base_uri": "https://localhost:8080/"
        },
        "id": "tNvwfRd3G_1V",
        "outputId": "af096be8-fa04-40e4-8e04-46aaee975b41"
      },
      "source": [
        "# Taking User Input\n",
        "# input = Help you to take User Input\n",
        "\n",
        "name = input('Enter Your Name: ')\n",
        "print('Welcome',name)"
      ],
      "execution_count": null,
      "outputs": [
        {
          "output_type": "stream",
          "text": [
            "Enter Your Name: Taylor\n",
            "Welcome Taylor\n"
          ],
          "name": "stdout"
        }
      ]
    },
    {
      "cell_type": "code",
      "metadata": {
        "colab": {
          "base_uri": "https://localhost:8080/"
        },
        "id": "gE0T55saHrF8",
        "outputId": "157fc90b-e09d-4f02-99c7-dd0fe6f0fa3c"
      },
      "source": [
        "number1 = int(input('Enter First Value:'))\n",
        "number2 = int(input('Enter Second Value:'))\n",
        "add = number1 + number2\n",
        "print(type(number1), type(number2))\n",
        "print('Result:',add)"
      ],
      "execution_count": null,
      "outputs": [
        {
          "output_type": "stream",
          "text": [
            "Enter First Value:23\n",
            "Enter Second Value:21\n",
            "<class 'int'> <class 'int'>\n",
            "Result: 44\n"
          ],
          "name": "stdout"
        }
      ]
    }
  ]
}