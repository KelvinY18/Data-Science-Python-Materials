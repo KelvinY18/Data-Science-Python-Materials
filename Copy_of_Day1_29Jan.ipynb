{
  "nbformat": 4,
  "nbformat_minor": 0,
  "metadata": {
    "colab": {
      "provenance": []
    },
    "kernelspec": {
      "name": "python3",
      "display_name": "Python 3"
    },
    "language_info": {
      "name": "python"
    }
  },
  "cells": [
    {
      "cell_type": "code",
      "metadata": {
        "id": "5KMfQiyA4NQX"
      },
      "source": [
        "Code Cell\n",
        "# space for coding"
      ],
      "execution_count": null,
      "outputs": []
    },
    {
      "cell_type": "code",
      "metadata": {
        "id": "8qw1RFb96L_d"
      },
      "source": [
        "# for Comments in Python\n",
        "# used to provide important and meaningful info about our code\n",
        "'''\n",
        "Multi Line\n",
        "Comments\n",
        "'''\n",
        "# To enable Line Number in Code Cell, CTRL + M and L\n",
        "# CTRL + M --> mode   L --> Line Number"
      ],
      "execution_count": null,
      "outputs": []
    },
    {
      "cell_type": "code",
      "metadata": {
        "colab": {
          "base_uri": "https://localhost:8080/"
        },
        "id": "iEbt7fNu7IQ6",
        "outputId": "155af569-4cbf-491d-80fe-db3ac4a3f6ae"
      },
      "source": [
        "# First Python Hello World Program\n",
        "# print() function\n",
        "# used to print on a stream, Output\n",
        "\n",
        "print(\"Hello World\")\n",
        "print('Hello World')\n",
        "print ('Hello World')\n",
        "print(10)\n",
        "# Quotes only for String"
      ],
      "execution_count": null,
      "outputs": [
        {
          "output_type": "stream",
          "text": [
            "Hello World\n",
            "Hello World\n",
            "Hello World\n",
            "10\n"
          ],
          "name": "stdout"
        }
      ]
    },
    {
      "cell_type": "code",
      "metadata": {
        "colab": {
          "base_uri": "https://localhost:8080/"
        },
        "id": "xmb3l-288qeU",
        "outputId": "8b8d74b4-03ce-4154-8856-984323cbdad5"
      },
      "source": [
        "# Default Parameters of Print Function\n",
        "# functionName? : will give docstring of that function\n",
        "# help(functionName)\n",
        "\n",
        "print('First Line',end='\\t')  # \\t --> Tab space  \\n --> New Line\n",
        "print('Second Line')"
      ],
      "execution_count": null,
      "outputs": [
        {
          "output_type": "stream",
          "text": [
            "First Line\tSecond Line\n"
          ],
          "name": "stdout"
        }
      ]
    },
    {
      "cell_type": "code",
      "metadata": {
        "colab": {
          "base_uri": "https://localhost:8080/"
        },
        "id": "btlMp64r-wvW",
        "outputId": "af635aed-ee30-433f-e840-66a988fec5b8"
      },
      "source": [
        "print('FirstValue','SecondValue','ThirdValue')\n",
        "print('FirstValue','SecondValue','ThirdValue',sep=' ')\n",
        "print('FirstValue','SecondValue','ThirdValue',sep='-->')\n",
        "print('FirstValue','SecondValue','ThirdValue',sep='@@@')"
      ],
      "execution_count": null,
      "outputs": [
        {
          "output_type": "stream",
          "text": [
            "FirstValue SecondValue ThirdValue\n",
            "FirstValue SecondValue ThirdValue\n",
            "FirstValue-->SecondValue-->ThirdValue\n",
            "FirstValue@@@SecondValue@@@ThirdValue\n"
          ],
          "name": "stdout"
        }
      ]
    },
    {
      "cell_type": "code",
      "metadata": {
        "colab": {
          "base_uri": "https://localhost:8080/"
        },
        "id": "fXdrkIRaAC-7",
        "outputId": "df203810-be6e-4f1a-d9ea-9c4a11330d72"
      },
      "source": [
        "# Python Numbers\n",
        "# Python as a calculator\n",
        "\n",
        "print(3+3)\n",
        "print(10-5)\n",
        "print(10*8)\n",
        "print(72/2) # in Python, Division Operator always return value in Float/decimal\n",
        "# Floor Division --> // --> always return an Integer value\n",
        "print(72//2)\n",
        "# Exponential Operator --> **\n",
        "print(2**10) # 2 raise to the power of 10\n",
        "print(78**78)\n",
        "# Modulo Operator --> % --> used to give a remainder\n",
        "print(17%2)"
      ],
      "execution_count": null,
      "outputs": [
        {
          "output_type": "stream",
          "text": [
            "6\n",
            "5\n",
            "80\n",
            "36.0\n",
            "36\n",
            "1024\n",
            "3831589812313461262138726500006414268147534037893115512325908939170687185145438579006950082195309705885134607990418665607337632973770507236843454464\n",
            "1\n"
          ],
          "name": "stdout"
        }
      ]
    },
    {
      "cell_type": "code",
      "metadata": {
        "colab": {
          "base_uri": "https://localhost:8080/"
        },
        "id": "_bk4MtLtCFqU",
        "outputId": "eafd8d2d-20a0-479b-e566-f70191ddd555"
      },
      "source": [
        "# Operator Precedence\n",
        "# which Operator will execute first --> BoDMAS\n",
        "'''\n",
        "() Parentheses\n",
        "** Exponent\n",
        "* / // %\n",
        "+-\n",
        "'''\n",
        "print(50-5*2)\n",
        "print((50-5)*2)\n",
        "\n",
        "# Associativity --> operators at the same level of Precedence will be execute from Left to Right\n",
        "print(4*7%3)\n",
        "\n",
        "# Right to Left Associativity --> for Exponential Operators\n",
        "print(4**2**2)"
      ],
      "execution_count": null,
      "outputs": [
        {
          "output_type": "stream",
          "text": [
            "40\n",
            "90\n",
            "1\n",
            "256\n"
          ],
          "name": "stdout"
        }
      ]
    },
    {
      "cell_type": "code",
      "metadata": {
        "colab": {
          "base_uri": "https://localhost:8080/"
        },
        "id": "fmWYWlDgGl9F",
        "outputId": "8c48ef0e-61c2-449f-a8ea-30bba53afa05"
      },
      "source": [
        "# VARIABLES\n",
        "num1 = 20\n",
        "num2 = 30\n",
        "\n",
        "print(num1+num2)"
      ],
      "execution_count": null,
      "outputs": [
        {
          "output_type": "stream",
          "text": [
            "50\n"
          ],
          "name": "stdout"
        }
      ]
    },
    {
      "cell_type": "code",
      "metadata": {
        "id": "8uNr5rwSHpfg",
        "colab": {
          "base_uri": "https://localhost:8080/",
          "height": 129
        },
        "outputId": "95cbd453-3352-4c91-e6b8-6b7122162e3f"
      },
      "source": [
        "# Rules for name of Variables\n",
        "\n",
        "# CANT start with Numbers\n",
        "123 = 40\n",
        "# CANT use space instead use underscore\n",
        "var name = 20\n",
        "var_name = 20\n",
        "# case sensitive\n",
        "ABC = 10\n",
        "abc = 20\n",
        "Abc = 30\n",
        "# AVOID using reserved keywords in Python --> print, str, int, list, tuple, etc\n",
        "list = 40\n",
        "str = 50\n",
        "\n",
        "print1=10\n",
        "print(print1)"
      ],
      "execution_count": null,
      "outputs": [
        {
          "output_type": "error",
          "ename": "SyntaxError",
          "evalue": "ignored",
          "traceback": [
            "\u001b[0;36m  File \u001b[0;32m\"<ipython-input-33-c5e50a54cd8c>\"\u001b[0;36m, line \u001b[0;32m10\u001b[0m\n\u001b[0;31m    d keywords in Python --> print, str, int, list, tuple, etc\u001b[0m\n\u001b[0m             ^\u001b[0m\n\u001b[0;31mSyntaxError\u001b[0m\u001b[0;31m:\u001b[0m invalid syntax\n"
          ]
        }
      ]
    },
    {
      "cell_type": "code",
      "metadata": {
        "id": "i_PT7kw5I4AT",
        "colab": {
          "base_uri": "https://localhost:8080/",
          "height": 129
        },
        "outputId": "d6cb698f-ad90-408d-dac2-0d3a85679edc"
      },
      "source": [
        "# DATA TYPES in Python\n",
        "int var_name = 10 --> C++, Java\n",
        "var_name = 10 --> Python # no need to specify because it uses Dynamic Typing\n",
        "# Dynamic Typing allows us to reassign variable to different Data Types"
      ],
      "execution_count": null,
      "outputs": [
        {
          "output_type": "error",
          "ename": "SyntaxError",
          "evalue": "ignored",
          "traceback": [
            "\u001b[0;36m  File \u001b[0;32m\"<ipython-input-34-891d9bcf7760>\"\u001b[0;36m, line \u001b[0;32m2\u001b[0m\n\u001b[0;31m    int var_name = 10 --> C++, Java\u001b[0m\n\u001b[0m               ^\u001b[0m\n\u001b[0;31mSyntaxError\u001b[0m\u001b[0;31m:\u001b[0m invalid syntax\n"
          ]
        }
      ]
    },
    {
      "cell_type": "code",
      "metadata": {
        "colab": {
          "base_uri": "https://localhost:8080/"
        },
        "id": "1jj4fVX3qQkv",
        "outputId": "8004c672-8e8c-4397-f043-14b48878baef"
      },
      "source": [
        "# int Data Type\n",
        "\n",
        "intValue = 10\n",
        "print(intValue)\n",
        "\n",
        "# type() --> TYPE FUNCTION --> used to check the DataType of variable\n",
        "type(intValue)\n",
        "\n",
        "# float Data Type\n",
        "floatValue = 90.321\n",
        "print(type(floatValue), floatValue)\n",
        "\n",
        "# string Data Type\n",
        "strValue = 'Python'\n",
        "print(type(strValue), strValue)\n",
        "\n",
        "# boolean Data Type --> true / false\n",
        "boolType = True\n",
        "print(type(boolType))"
      ],
      "execution_count": null,
      "outputs": [
        {
          "output_type": "stream",
          "text": [
            "10\n",
            "<class 'float'> 90.321\n",
            "<class 'str'> Python\n",
            "<class 'bool'>\n"
          ],
          "name": "stdout"
        }
      ]
    },
    {
      "cell_type": "code",
      "metadata": {
        "colab": {
          "base_uri": "https://localhost:8080/"
        },
        "id": "p4OrZl9ashkD",
        "outputId": "2adda460-3c28-41ab-b289-0d9942a29b82"
      },
      "source": [
        "# STRINGS IN Python\n",
        "# sequence of a characters\n",
        "str1=\"String\"\n",
        "str2='String'\n",
        "print(type(str1), type(str2))"
      ],
      "execution_count": null,
      "outputs": [
        {
          "output_type": "stream",
          "text": [
            "<class 'str'> <class 'str'>\n"
          ],
          "name": "stdout"
        }
      ]
    },
    {
      "cell_type": "code",
      "metadata": {
        "colab": {
          "base_uri": "https://localhost:8080/"
        },
        "id": "oUoNpX64tMfS",
        "outputId": "ecc70efd-09a6-476d-925a-a3934da26b07"
      },
      "source": [
        "# Indexing in Strings\n",
        "course = \"PythonProgramming\"\n",
        "# P  y  t  h  o  n  P  r  o  g  r  a  m  m  i  n  g\n",
        "# 0  1  2  3  4  5  6  7  8  9  10 11 12 13 14 15 16\n",
        "\n",
        "# indexing --> allows us to grab a single characters from a String\n",
        "# indexing uses [] notation\n",
        "\n",
        "print(course[6])\n",
        "print(course[15])"
      ],
      "execution_count": null,
      "outputs": [
        {
          "output_type": "stream",
          "text": [
            "P\n",
            "n\n"
          ],
          "name": "stdout"
        }
      ]
    },
    {
      "cell_type": "code",
      "metadata": {
        "colab": {
          "base_uri": "https://localhost:8080/"
        },
        "id": "SKTVXMRCuc8-",
        "outputId": "c70aea87-6ab7-498f-8281-75030550a402"
      },
      "source": [
        "# Slicing in Strings\n",
        "course = \"PythonProgramming\"\n",
        "# P  y  t  h  o  n  P  r  o  g  r  a  m  m  i  n  g\n",
        "# 0  1  2  3  4  5  6  7  8  9  10 11 12 13 14 15 16\n",
        "\n",
        "# slicing --> allows us to grab a portion or sub portion of a String\n",
        "# Syntax : varname[startIndex:stopIndex]\n",
        "# startIndex : numeric index from where slicing starts [INCLUSIVE]\n",
        "# stopIndex : numeric index from where slicing ends [EXCLUSIVE]\n",
        "print(course[3:15]) # 15 not going to be printed out as it is the EXCLUSIVE character / last character\n",
        "print(course[6:13])\n",
        "print(course[12:16])\n",
        "print(course[:6]) # blank space at the Start equals to 0 / start of the String\n",
        "print(course[6:]) # blank space at the End equals to 16 / end of the String\n",
        "\n",
        "# Negative Slicing\n",
        "course = \"PythonProgramming\"\n",
        "# P  y  t  h  o  n  P  r  o  g  r  a  m  m  i  n  g\n",
        "#                                 -6 -5 -4 -3 -2 -1\n",
        "print(course[-1])\n",
        "\n",
        "# Step Count\n",
        "# Syntax : varname[startIndex:stopIndex:stepCount]\n",
        "print(course[::2])\n",
        "# P  y  t  h  o  n  P  r  o  g  r  a  m  m  i  n  g\n",
        "# x     x     x     x     x     x     x     x     x  ,stepCount --> Intervals\n",
        "# start & end is included because startIndex & stopIndex is not specified\n",
        "print(course[::3])\n",
        "\n",
        "# Reverse of a String\n",
        "print(course[::-1])"
      ],
      "execution_count": null,
      "outputs": [
        {
          "output_type": "stream",
          "text": [
            "honProgrammi\n",
            "Program\n",
            "mmin\n",
            "Python\n",
            "Programming\n",
            "g\n",
            "PtoPormig\n",
            "PhPgmn\n",
            "gnimmargorPnohtyP\n"
          ],
          "name": "stdout"
        }
      ]
    },
    {
      "cell_type": "code",
      "metadata": {
        "colab": {
          "base_uri": "https://localhost:8080/"
        },
        "id": "NMxDCgPG48j2",
        "outputId": "e9dcd97a-0111-47c5-f7d5-54e8f4fc961f"
      },
      "source": [
        "# Escape Character Sequences\n",
        "# to prevent confusion from Python interpreter\n",
        "# 'I didn't do that'  ,confusions because of many single quotes\n",
        "\n",
        "print('I didn\\'t do that') # \\ before the extra quote\n",
        "print(\"Welcome to \\\"Kaki\\\" Code\") # \\ before the extra double quotes"
      ],
      "execution_count": null,
      "outputs": [
        {
          "output_type": "stream",
          "text": [
            "I didn't do that\n",
            "Welcome to \"Kaki\" Code\n"
          ],
          "name": "stdout"
        }
      ]
    },
    {
      "cell_type": "code",
      "metadata": {
        "id": "hwGV6lIq7c6z",
        "colab": {
          "base_uri": "https://localhost:8080/"
        },
        "outputId": "7d2f2caf-0274-4da1-ff93-1ef267653865"
      },
      "source": [
        "# Raw strings\n",
        "print('c:\\newfolder\\test') #\\n --> New Line  \\t --> tab Space\n",
        "\n",
        "print(r'c:\\newfolder\\test')\n",
        "\n",
        "print('Temperature:\\n \\t Kuala Lumpur : 27 degrees \\n \\t New Delhi : 16 degrees ')\n",
        "print('Temperature:\\n Kuala Lumpur : 27 degrees \\n New Delhi : 16 degrees')\n",
        "print('''\n",
        "Temperature :\n",
        "    Kuala Lumpur : 27 degrees\n",
        "    New Delhi    : 16 degrees\n",
        "''')\n",
        "# in Python, Strings can be declared using triple quotes to preserve the text formatting"
      ],
      "execution_count": null,
      "outputs": [
        {
          "output_type": "stream",
          "text": [
            "c:\n",
            "ewfolder\test\n",
            "c:\\newfolder\\test\n",
            "Temperature:\n",
            " \t Kuala Lumpur : 27 degrees \n",
            " \t New Delhi : 16 degrees \n",
            "Temperature:\n",
            " Kuala Lumpur : 27 degrees \n",
            " New Delhi : 16 degrees\n",
            "\n",
            "Temperature :\n",
            "    Kuala Lumpur : 27 degrees\n",
            "    New Delhi    : 16 degrees\n",
            "\n"
          ],
          "name": "stdout"
        }
      ]
    },
    {
      "cell_type": "code",
      "metadata": {
        "colab": {
          "base_uri": "https://localhost:8080/"
        },
        "id": "R0471zuJB-9q",
        "outputId": "52b17251-d5cd-4e64-d166-9b2ac643e380"
      },
      "source": [
        "# String Concatenation\n",
        "# combining two Strings together\n",
        "\n",
        "fname = 'Yash'\n",
        "lname = 'Sharma'\n",
        "course = 'Python'\n",
        "fees = 1500 # Line 17\n",
        "\n",
        "# Welcome Yash Sharma To The World of Python\n",
        "\n",
        "print('Welcome '+fname+' '+lname+' To The World of '+course)\n",
        "\n",
        "#in String Concatenation this + operator requires both left and right hand side value to be of String\n",
        "\n",
        "# Welcome Yash Sharma To The World of Python fees will be 1500\n",
        "\n",
        "print('Welcome '+fname+' '+lname+' To The World of '+course+' fees will be '+str(fees))\n",
        "# as + operator requires left & right to be String, Integer value wil give error\n",
        "# str(fees) --> String Casting --> changing int to str --> Type Conversion\n",
        "\n",
        "print('Welcome',fname,lname,'To The World of',course,'fees will be',fees)  # simpler ways using , for spaces & + operator"
      ],
      "execution_count": null,
      "outputs": [
        {
          "output_type": "stream",
          "text": [
            "Welcome Yash Sharma To The World of Python\n",
            "Welcome Yash Sharma To The World of Python fees will be 1500\n",
            "Welcome Yash Sharma To The World of Python fees will be 1500\n"
          ],
          "name": "stdout"
        }
      ]
    },
    {
      "cell_type": "code",
      "metadata": {
        "colab": {
          "base_uri": "https://localhost:8080/"
        },
        "id": "P5U8dwczGXd_",
        "outputId": "39cb346a-ee72-4768-fbdb-3e9469bc63c0"
      },
      "source": [
        "# String Formatting\n",
        "# allows multiple substitutions and value formatting\n",
        "# Synatx : {}.format(value)\n",
        "# str.format()\n",
        "\n",
        "# 1. default_order\n",
        "default_order = \"{} {} {} {}\".format('Python','Is','Very','Easy')\n",
        "print(default_order)\n",
        "\n",
        "# 2. positional_order\n",
        "positional_order =\"{2} {0} {1}\".format(\"is\",\"easy\",\"Python\")\n",
        "print(positional_order)\n",
        "\n",
        "# 3. keyword_order\n",
        "keyword_order = \"{m} {t}\".format(m='Malaysia',t='TwinTower')\n",
        "print(keyword_order)\n",
        "keyword_order = \"{m} has {t}\".format(m='Malaysia',t='TwinTower')\n",
        "print(keyword_order)"
      ],
      "execution_count": null,
      "outputs": [
        {
          "output_type": "stream",
          "text": [
            "Python Is Very Easy\n",
            "Python is easy\n",
            "Malaysia TwinTower\n",
            "Malaysia has TwinTower\n"
          ],
          "name": "stdout"
        }
      ]
    },
    {
      "cell_type": "code",
      "metadata": {
        "colab": {
          "base_uri": "https://localhost:8080/"
        },
        "id": "Vlnn_x0-PB9F",
        "outputId": "20e074d9-2e95-488f-da0c-cfa3fed0b9dc"
      },
      "source": [
        "# Type Conversion\n",
        "# Type Casting\n",
        "# process of converting the value of one data type to another data type\n",
        "\n",
        "# Implicit Type Casting\n",
        "# converts data type without the need of user --> converted data type is not specified\n",
        "int_value = 10\n",
        "float_value = 67.43\n",
        "res = int_value + float_value\n",
        "print(res)\n",
        "# Python always converts smaller dataType to larger dataType --> converted data type not specified\n",
        "\n",
        "# Explicit Type Casting --> commonly called type casting\n",
        "# converts data type to required data type --> data type converted is specified\n",
        "# Syntax : <required_datatype>(expression)\n",
        "int_val = 123\n",
        "str_val = \"456\"\n",
        "res = int_val + int(str_val)\n",
        "print(res)\n"
      ],
      "execution_count": null,
      "outputs": [
        {
          "output_type": "stream",
          "text": [
            "77.43\n",
            "579\n"
          ],
          "name": "stdout"
        }
      ]
    },
    {
      "cell_type": "code",
      "metadata": {
        "colab": {
          "base_uri": "https://localhost:8080/"
        },
        "id": "igRO3EjjUXzT",
        "outputId": "fd9258a9-9f81-47f4-da2b-6a4cee55bd93"
      },
      "source": [
        "# Taking User Input\n",
        "# input() --> help to take user input\n",
        "name = input('Enter your name : ')\n",
        "print('Welcome',name)"
      ],
      "execution_count": null,
      "outputs": [
        {
          "output_type": "stream",
          "text": [
            "Enter your name : Kelvin\n",
            "Welcome Kelvin\n"
          ],
          "name": "stdout"
        }
      ]
    },
    {
      "cell_type": "code",
      "metadata": {
        "colab": {
          "base_uri": "https://localhost:8080/"
        },
        "id": "K3RUfPuhZDkO",
        "outputId": "d00d5c75-78c8-4ca3-aedd-67a16db84639"
      },
      "source": [
        "num1 = input('Enter first value : ')\n",
        "num2 = input('Enter second value : ')\n",
        "add = num1+num2\n",
        "print('Result :',add)  #every input data is going to be treated as String\n",
        "\n",
        "num1 = int(input('Enter first value : '))   #type casting int\n",
        "num2 = int(input('Enter second value : '))\n",
        "add = num1 + num2\n",
        "print('Result :',add)\n",
        "\n",
        "num1 = float(input('First value :'))    #type casting float\n",
        "num2 = float(input('Second value :'))\n",
        "add = num1 + num2\n",
        "print('Result : ',add)"
      ],
      "execution_count": null,
      "outputs": [
        {
          "output_type": "stream",
          "text": [
            "Enter first value : 4\n",
            "Enter second value : sec\n",
            "Result : 4sec\n",
            "Enter first value : 5\n",
            "Enter second value : 4\n",
            "Result : 9\n",
            "First value :5\n",
            "Second value :5\n",
            "Result :  10.0\n"
          ],
          "name": "stdout"
        }
      ]
    },
    {
      "cell_type": "code",
      "metadata": {
        "colab": {
          "base_uri": "https://localhost:8080/"
        },
        "id": "xWjWi1IacHXN",
        "outputId": "9055a346-559f-4e61-840e-d5b8fb74730a"
      },
      "source": [
        "# Operators\n",
        "# Assignment Operators\n",
        "# assign values to variables\n",
        "# =\n",
        "\n",
        "mynum = 89\n",
        "print(mynum)"
      ],
      "execution_count": null,
      "outputs": [
        {
          "output_type": "stream",
          "text": [
            "89\n"
          ],
          "name": "stdout"
        }
      ]
    },
    {
      "cell_type": "code",
      "metadata": {
        "colab": {
          "base_uri": "https://localhost:8080/"
        },
        "id": "r-467HhCeqdM",
        "outputId": "5f425c2d-1c34-43da-fa85-78d02d1ed9d8"
      },
      "source": [
        "x = 10\n",
        "x += 10  # x = x + 10\n",
        "print(x)"
      ],
      "execution_count": null,
      "outputs": [
        {
          "output_type": "stream",
          "text": [
            "20\n"
          ],
          "name": "stdout"
        }
      ]
    },
    {
      "cell_type": "code",
      "metadata": {
        "colab": {
          "base_uri": "https://localhost:8080/"
        },
        "id": "YBYns_vifqfk",
        "outputId": "35d4a82a-d47d-46db-a71f-44bdcd4c2dd6"
      },
      "source": [
        "# Comparison Operators\n",
        "\n",
        "x = 12\n",
        "y = 10\n",
        "\n",
        "print(\"(x==y) :\",x==y)\n",
        "print(\"(x!=y) :\",x!=y)\n",
        "print(\"(x>y) :\",x>y)\n",
        "print(\"(x<y) :\",x<y)"
      ],
      "execution_count": null,
      "outputs": [
        {
          "output_type": "stream",
          "text": [
            "(x==y) : False\n",
            "(x!=y) : True\n",
            "(x>y) : True\n",
            "(x<y) : False\n"
          ],
          "name": "stdout"
        }
      ]
    },
    {
      "cell_type": "code",
      "metadata": {
        "colab": {
          "base_uri": "https://localhost:8080/"
        },
        "id": "G5xKSZ9h2VSc",
        "outputId": "3eac2cce-8ca1-4b1c-b57d-317d05804cf1"
      },
      "source": [
        "age = 18\n",
        "print('Eligible For Voting : ',(age>=18))\n"
      ],
      "execution_count": null,
      "outputs": [
        {
          "output_type": "stream",
          "text": [
            "Eligible For Voting :  True\n"
          ],
          "name": "stdout"
        }
      ]
    },
    {
      "cell_type": "code",
      "metadata": {
        "colab": {
          "base_uri": "https://localhost:8080/"
        },
        "id": "ex7YJam22oI3",
        "outputId": "d61b811b-4380-45d6-b738-3fa715b79c01"
      },
      "source": [
        "# Logical Operators\n",
        "# AND\n",
        "\n",
        "a = 100\n",
        "b = 200\n",
        "\n",
        "print(\"a=100 and b=200\",(a==100 and b==200))\n",
        "# AND operator return TRUE when both the condition satisfies else it return FALSE\n",
        "print((a==100 and b==300))"
      ],
      "execution_count": null,
      "outputs": [
        {
          "output_type": "stream",
          "text": [
            "a=100 and b=200 True\n",
            "False\n"
          ],
          "name": "stdout"
        }
      ]
    },
    {
      "cell_type": "code",
      "metadata": {
        "colab": {
          "base_uri": "https://localhost:8080/"
        },
        "id": "9nYzlYfW4Pv5",
        "outputId": "31f3af5d-3f9b-429a-af1f-9273f7721081"
      },
      "source": [
        "# OR\n",
        "# will return TRUE if any of the condition is TRUE\n",
        "# will return FALSE if both the conditions are FALSE\n",
        "\n",
        "a = 121\n",
        "b = 800\n",
        "\n",
        "print((a==121 or b==800))\n",
        "print((a==121 or b==900))\n",
        "print((a==131 or b==600))"
      ],
      "execution_count": null,
      "outputs": [
        {
          "output_type": "stream",
          "text": [
            "True\n",
            "True\n",
            "False\n"
          ],
          "name": "stdout"
        }
      ]
    },
    {
      "cell_type": "code",
      "metadata": {
        "colab": {
          "base_uri": "https://localhost:8080/"
        },
        "id": "LYIeL1VW7YbS",
        "outputId": "495de8ae-c09d-4e63-966b-1d95d49b8ff9"
      },
      "source": [
        "# NOT\n",
        "# used to reverse the result\n",
        "# if the output is TRUE, NOT will make it FALSE\n",
        "# if the output is FALSE, NOT will make it TRUE\n",
        "\n",
        "a = 10\n",
        "b = 20\n",
        "\n",
        "print(not(a==10 and b==20))"
      ],
      "execution_count": null,
      "outputs": [
        {
          "output_type": "stream",
          "text": [
            "False\n"
          ],
          "name": "stdout"
        }
      ]
    },
    {
      "cell_type": "code",
      "metadata": {
        "colab": {
          "base_uri": "https://localhost:8080/"
        },
        "id": "1SRNvo_69UYJ",
        "outputId": "5b321a80-ffaf-463a-e261-5327c81990b7"
      },
      "source": [
        "# Membership Operators\n",
        "# in        not in\n",
        "\n",
        "course = \"Data Science with Python\"\n",
        "print(course)\n",
        "\n",
        "#in --> returns TRUE if value is present in sequence\n",
        "\n",
        "print('D' in course)\n",
        "print('Python' in course)\n",
        "print('Machine' in course)\n",
        "\n",
        "# not in --> returns TRUE if value is not present in sequence\n",
        "print('Machine' not in course)"
      ],
      "execution_count": null,
      "outputs": [
        {
          "output_type": "stream",
          "text": [
            "Data Science with Python\n",
            "True\n",
            "True\n",
            "False\n",
            "True\n"
          ],
          "name": "stdout"
        }
      ]
    }
  ]
}