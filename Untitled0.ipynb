{
  "nbformat": 4,
  "nbformat_minor": 0,
  "metadata": {
    "colab": {
      "provenance": []
    },
    "kernelspec": {
      "name": "python3",
      "display_name": "Python 3"
    },
    "language_info": {
      "name": "python"
    }
  },
  "cells": [
    {
      "cell_type": "code",
      "metadata": {
        "colab": {
          "base_uri": "https://localhost:8080/"
        },
        "id": "a_VuECszt98o",
        "outputId": "5501efc3-9892-46e8-da42-372e8061ec36"
      },
      "source": [
        "# TASKS\n",
        "# declare 5 integer values\n",
        "# determine which one is the greatest\n",
        "# using if only\n",
        "# can use comparison operator\n",
        "\n",
        "a = 19\n",
        "b = 65\n",
        "c = 20\n",
        "d = 148\n",
        "e = 54\n",
        "\n",
        "largest = 0\n",
        "\n",
        "if largest < a:     # 0 < 19 (true)\n",
        "  largest = a       # largest = 19\n",
        "\n",
        "if largest < b:     # 19 < 65 (true)\n",
        "  largest = b       # largest = 65\n",
        "\n",
        "if largest < c:     # 65 < 20 (false)\n",
        "  largest = c       # will not print\n",
        "\n",
        "if largest < d:     #\n",
        "  largest = d\n",
        "\n",
        "if largest < e:     # 148 < 54 (false)\n",
        "  largest = e\n",
        "\n",
        "print('Largest value is',largest)\n"
      ],
      "execution_count": null,
      "outputs": [
        {
          "output_type": "stream",
          "text": [
            "Largest value is 148\n"
          ],
          "name": "stdout"
        }
      ]
    }
  ]
}